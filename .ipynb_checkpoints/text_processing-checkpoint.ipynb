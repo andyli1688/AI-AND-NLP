{
 "cells": [
  {
   "cell_type": "markdown",
   "metadata": {},
   "source": [
    "# Text Processing\n",
    "\n",
    "## Capturing Text Data\n",
    "\n",
    "### Plain Text"
   ]
  },
  {
   "cell_type": "code",
   "execution_count": 1,
   "metadata": {},
   "outputs": [
    {
     "name": "stdout",
     "output_type": "stream",
     "text": [
      "Hieroglyphic writing dates from c. 3000 BC, and is composed of hundreds of symbols. A hieroglyph can represent a word, a sound, or a silent determinative; and the same symbol can serve different purposes in different contexts. Hieroglyphs were a formal script, used on stone monuments and in tombs, that could be as detailed as individual works of art.\n",
      "\n"
     ]
    }
   ],
   "source": [
    "import os\n",
    "\n",
    "# Read in a plain text file\n",
    "with open(os.path.join(\"data\", \"hieroglyph.txt\"), \"r\") as f:\n",
    "    text = f.read()\n",
    "    print(text)"
   ]
  },
  {
   "cell_type": "markdown",
   "metadata": {},
   "source": [
    "### Tabular Data"
   ]
  },
  {
   "cell_type": "code",
   "execution_count": 2,
   "metadata": {
    "scrolled": true
   },
   "outputs": [
    {
     "data": {
      "text/html": [
       "<div>\n",
       "<style scoped>\n",
       "    .dataframe tbody tr th:only-of-type {\n",
       "        vertical-align: middle;\n",
       "    }\n",
       "\n",
       "    .dataframe tbody tr th {\n",
       "        vertical-align: top;\n",
       "    }\n",
       "\n",
       "    .dataframe thead th {\n",
       "        text-align: right;\n",
       "    }\n",
       "</style>\n",
       "<table border=\"1\" class=\"dataframe\">\n",
       "  <thead>\n",
       "    <tr style=\"text-align: right;\">\n",
       "      <th></th>\n",
       "      <th>publisher</th>\n",
       "      <th>title</th>\n",
       "    </tr>\n",
       "  </thead>\n",
       "  <tbody>\n",
       "    <tr>\n",
       "      <th>0</th>\n",
       "      <td>Livemint</td>\n",
       "      <td>fed's charles plosser sees high bar for change...</td>\n",
       "    </tr>\n",
       "    <tr>\n",
       "      <th>1</th>\n",
       "      <td>IFA Magazine</td>\n",
       "      <td>us open: stocks fall after fed official hints ...</td>\n",
       "    </tr>\n",
       "    <tr>\n",
       "      <th>2</th>\n",
       "      <td>IFA Magazine</td>\n",
       "      <td>fed risks falling 'behind the curve', charles ...</td>\n",
       "    </tr>\n",
       "    <tr>\n",
       "      <th>3</th>\n",
       "      <td>Moneynews</td>\n",
       "      <td>fed's plosser: nasty weather has curbed job gr...</td>\n",
       "    </tr>\n",
       "    <tr>\n",
       "      <th>4</th>\n",
       "      <td>NASDAQ</td>\n",
       "      <td>plosser: fed may have to accelerate tapering pace</td>\n",
       "    </tr>\n",
       "  </tbody>\n",
       "</table>\n",
       "</div>"
      ],
      "text/plain": [
       "      publisher                                              title\n",
       "0      Livemint  fed's charles plosser sees high bar for change...\n",
       "1  IFA Magazine  us open: stocks fall after fed official hints ...\n",
       "2  IFA Magazine  fed risks falling 'behind the curve', charles ...\n",
       "3     Moneynews  fed's plosser: nasty weather has curbed job gr...\n",
       "4        NASDAQ  plosser: fed may have to accelerate tapering pace"
      ]
     },
     "execution_count": 2,
     "metadata": {},
     "output_type": "execute_result"
    }
   ],
   "source": [
    "import pandas as pd\n",
    "\n",
    "# Extract text column from a dataframe\n",
    "df = pd.read_csv(os.path.join(\"data\", \"news.csv\"))\n",
    "df.head()[['publisher', 'title']]\n",
    "\n",
    "# Convert text column to lowercase\n",
    "df['title'] = df['title'].str.lower()\n",
    "df.head()[['publisher', 'title']]"
   ]
  },
  {
   "cell_type": "markdown",
   "metadata": {},
   "source": [
    "### Online Resource"
   ]
  },
  {
   "cell_type": "code",
   "execution_count": 3,
   "metadata": {
    "scrolled": true
   },
   "outputs": [
    {
     "name": "stdout",
     "output_type": "stream",
     "text": [
      "{\n",
      "    \"success\": {\n",
      "        \"total\": 1\n",
      "    },\n",
      "    \"contents\": {\n",
      "        \"quotes\": [\n",
      "            {\n",
      "                \"quote\": \"Logic will get you from A to B. Imagination will take you everywhere.\",\n",
      "                \"length\": \"69\",\n",
      "                \"author\": \"Albert Einstein\",\n",
      "                \"tags\": [\n",
      "                    \"imagination\",\n",
      "                    \"inspire\",\n",
      "                    \"t-shirt\"\n",
      "                ],\n",
      "                \"category\": \"inspire\",\n",
      "                \"date\": \"2019-01-21\",\n",
      "                \"permalink\": \"https://theysaidso.com/quote/cfDPmVkuKVadLkHsmY5hxAeF/albert-einstein-logic-will-get-you-from-a-to-b-imagination-will-take-you-everywh\",\n",
      "                \"title\": \"Inspiring Quote of the day\",\n",
      "                \"background\": \"https://theysaidso.com/img/bgs/man_on_the_mountain.jpg\",\n",
      "                \"id\": \"cfDPmVkuKVadLkHsmY5hxAeF\"\n",
      "            }\n",
      "        ],\n",
      "        \"copyright\": \"2017-19 theysaidso.com\"\n",
      "    }\n",
      "}\n",
      "Logic will get you from A to B. Imagination will take you everywhere. \n",
      "-- Albert Einstein\n"
     ]
    }
   ],
   "source": [
    "import requests\n",
    "import json\n",
    "\n",
    "# Fetch data from a REST API\n",
    "r = requests.get(\n",
    "    \"https://quotes.rest/qod.json\")\n",
    "res = r.json()\n",
    "print(json.dumps(res, indent=4))\n",
    "\n",
    "# Extract relevant object and field\n",
    "q = res[\"contents\"][\"quotes\"][0]\n",
    "print(q[\"quote\"], \"\\n--\", q[\"author\"])"
   ]
  },
  {
   "cell_type": "markdown",
   "metadata": {},
   "source": [
    "## Cleaning"
   ]
  },
  {
   "cell_type": "code",
   "execution_count": 4,
   "metadata": {
    "scrolled": true
   },
   "outputs": [
    {
     "name": "stdout",
     "output_type": "stream",
     "text": [
      "<html op=\"news\"><head><meta name=\"referrer\" content=\"origin\"><meta name=\"viewport\" content=\"width=device-width, initial-scale=1.0\"><link rel=\"stylesheet\" type=\"text/css\" href=\"news.css?dZ6B1WGk3BSv5ue5iJ4L\">\n",
      "            <link rel=\"shortcut icon\" href=\"favicon.ico\">\n",
      "          <link rel=\"alternate\" type=\"application/rss+xml\" title=\"RSS\" href=\"rss\">\n",
      "        <title>Hacker News</title></head><body><center><table id=\"hnmain\" border=\"0\" cellpadding=\"0\" cellspacing=\"0\" width=\"85%\" bgcolor=\"#f6f6ef\">\n",
      "        <tr><td bgcolor=\"#ff6600\"><table border=\"0\" cellpadding=\"0\" cellspacing=\"0\" width=\"100%\" style=\"padding:2px\"><tr><td style=\"width:18px;padding-right:4px\"><a href=\"https://news.ycombinator.com\"><img src=\"y18.gif\" width=\"18\" height=\"18\" style=\"border:1px white solid;\"></a></td>\n",
      "                  <td style=\"line-height:12pt; height:10px;\"><span class=\"pagetop\"><b class=\"hnname\"><a href=\"news\">Hacker News</a></b>\n",
      "              <a href=\"newest\">new</a> | <a href=\"newcomments\">comments</a> | <a href=\"ask\">ask</a> | <a href=\"show\">show</a> | <a href=\"jobs\">jobs</a> | <a href=\"submit\">submit</a>            </span></td><td style=\"text-align:right;padding-right:4px;\"><span class=\"pagetop\">\n",
      "                              <a href=\"login?goto=news\">login</a>\n",
      "                          </span></td>\n",
      "              </tr></table></td></tr>\n",
      "<tr id=\"pagespace\" title=\"\" style=\"height:10px\"></tr><tr><td><table border=\"0\" cellpadding=\"0\" cellspacing=\"0\" class=\"itemlist\">\n",
      "              <tr class='athing' id='18956574'>\n",
      "      <td align=\"right\" valign=\"top\" class=\"title\"><span class=\"rank\">1.</span></td>      <td valign=\"top\" class=\"votelinks\"><center><a id='up_18956574' href='vote?id=18956574&amp;how=up&amp;goto=news'><div class='votearrow' title='upvote'></div></a></center></td><td class=\"title\"><a href=\"https://github.com/numpy/numpy/blob/master/doc/release/1.16.0-notes.rst\" class=\"storylink\">NumPy 1.16 released as the last version to support Python2</a><span class=\"sitebit comhead\"> (<a href=\"from?site=github.com\"><span class=\"sitestr\">github.com</span></a>)</span></td></tr><tr><td colspan=\"2\"></td><td class=\"subtext\">\n",
      "        <span class=\"score\" id=\"score_18956574\">46 points</span> by <a href=\"user?id=htfy96\" class=\"hnuser\">htfy96</a> <span class=\"age\"><a href=\"item?id=18956574\">3 hours ago</a></span> <span id=\"unv_18956574\"></span> | <a href=\"hide?id=18956574&amp;goto=news\">hide</a> | <a href=\"item?id=18956574\">19&nbsp;comments</a>              </td></tr>\n",
      "      <tr class=\"spacer\" style=\"height:5px\"></tr>\n",
      "                <tr class='athing' id='18955731'>\n",
      "      <td align=\"right\" valign=\"top\" class=\"title\"><span class=\"rank\">2.</span></td>      <td valign=\"top\" class=\"votelinks\"><center><a id='up_18955731' href='vote?id=18955731&amp;how=up&amp;goto=news'><div class='votearrow' title='upvote'></div></a></center></td><td class=\"title\"><a href=\"https://hiringengineersbook.com/post/trouble-hiring/\" class=\"storylink\">Trouble hiring senior engineers? It's probably you</a><span class=\"sitebit comhead\"> (<a href=\"from?site=hiringengineersbook.com\"><span class=\"sitestr\">hiringengineersbook.com</span></a>)</span></td></tr><tr><td colspan=\"2\"></td><td class=\"subtext\">\n",
      "        <span class=\"score\" id=\"score_18955731\">307 points</span> by <a href=\"user?id=ashitlerferad\" class=\"hnuser\">ashitlerferad</a> <span class=\"age\"><a href=\"item?id=18955731\">5 hours ago</a></span> <span id=\"unv_18955731\"></span> | <a href=\"hide?id=18955731&amp;goto=news\">hide</a> | <a href=\"item?id=18955731\">251&nbsp;comments</a>              </td></tr>\n",
      "      <tr class=\"spacer\" style=\"height:5px\"></tr>\n",
      "                <tr class='athing' id='18952698'>\n",
      "      <td align=\"right\" valign=\"top\" class=\"title\"><span class=\"rank\">3.</span></td>      <td valign=\"top\" class=\"votelinks\"><center><a id='up_18952698' href='vote?id=18952698&amp;how=up&amp;goto=news'><div class='votearrow' title='upvote'></div></a></center></td><td class=\"title\"><a href=\"https://www.scientificamerican.com/article/proper-breathing-brings-better-health/\" class=\"storylink\">Proper Breathing Brings Better Health</a><span class=\"sitebit comhead\"> (<a href=\"from?site=scientificamerican.com\"><span class=\"sitestr\">scientificamerican.com</span></a>)</span></td></tr><tr><td colspan=\"2\"></td><td class=\"subtext\">\n",
      "        <span class=\"score\" id=\"score_18952698\">97 points</span> by <a href=\"user?id=pseudolus\" class=\"hnuser\">pseudolus</a> <span class=\"age\"><a href=\"item?id=18952698\">5 hours ago</a></span> <span id=\"unv_18952698\"></span> | <a href=\"hide?id=18952698&amp;goto=news\">hide</a> | <a href=\"item?id=18952698\">27&nbsp;comments</a>              </td></tr>\n",
      "      <tr class=\"spacer\" style=\"height:5px\"></tr>\n",
      "                <tr class='athing' id='18953647'>\n",
      "      <td align=\"right\" valign=\"top\" class=\"title\"><span class=\"rank\">4.</span></td>      <td valign=\"top\" class=\"votelinks\"><center><a id='up_18953647' href='vote?id=18953647&amp;how=up&amp;goto=news'><div class='votearrow' title='upvote'></div></a></center></td><td class=\"title\"><a href=\"https://srcco.de/posts/kubernetes-failure-stories.html\" class=\"storylink\">Kubernetes Failure Stories</a><span class=\"sitebit comhead\"> (<a href=\"from?site=srcco.de\"><span class=\"sitestr\">srcco.de</span></a>)</span></td></tr><tr><td colspan=\"2\"></td><td class=\"subtext\">\n",
      "        <span class=\"score\" id=\"score_18953647\">358 points</span> by <a href=\"user?id=hjacobs\" class=\"hnuser\">hjacobs</a> <span class=\"age\"><a href=\"item?id=18953647\">11 hours ago</a></span> <span id=\"unv_18953647\"></span> | <a href=\"hide?id=18953647&amp;goto=news\">hide</a> | <a href=\"item?id=18953647\">137&nbsp;comments</a>              </td></tr>\n",
      "      <tr class=\"spacer\" style=\"height:5px\"></tr>\n",
      "                <tr class='athing' id='18955490'>\n",
      "      <td align=\"right\" valign=\"top\" class=\"title\"><span class=\"rank\">5.</span></td>      <td valign=\"top\" class=\"votelinks\"><center><a id='up_18955490' href='vote?id=18955490&amp;how=up&amp;goto=news'><div class='votearrow' title='upvote'></div></a></center></td><td class=\"title\"><a href=\"https://www.sciencedaily.com/releases/2019/01/190117122711.htm\" class=\"storylink\">Body-painting protects against bloodsucking insects</a><span class=\"sitebit comhead\"> (<a href=\"from?site=sciencedaily.com\"><span class=\"sitestr\">sciencedaily.com</span></a>)</span></td></tr><tr><td colspan=\"2\"></td><td class=\"subtext\">\n",
      "        <span class=\"score\" id=\"score_18955490\">103 points</span> by <a href=\"user?id=curtis\" class=\"hnuser\">curtis</a> <span class=\"age\"><a href=\"item?id=18955490\">6 hours ago</a></span> <span id=\"unv_18955490\"></span> | <a href=\"hide?id=18955490&amp;goto=news\">hide</a> | <a href=\"item?id=18955490\">37&nbsp;comments</a>              </td></tr>\n",
      "      <tr class=\"spacer\" style=\"height:5px\"></tr>\n",
      "                <tr class='athing' id='18956069'>\n",
      "      <td align=\"right\" valign=\"top\" class=\"title\"><span class=\"rank\">6.</span></td>      <td valign=\"top\" class=\"votelinks\"><center><a id='up_18956069' href='vote?id=18956069&amp;how=up&amp;goto=news'><div class='votearrow' title='upvote'></div></a></center></td><td class=\"title\"><a href=\"https://ai.google/social-good/impact-challenge\" class=\"storylink\">Google launches an AI contest for social good</a><span class=\"sitebit comhead\"> (<a href=\"from?site=ai.google\"><span class=\"sitestr\">ai.google</span></a>)</span></td></tr><tr><td colspan=\"2\"></td><td class=\"subtext\">\n",
      "        <span class=\"score\" id=\"score_18956069\">60 points</span> by <a href=\"user?id=saranshk\" class=\"hnuser\">saranshk</a> <span class=\"age\"><a href=\"item?id=18956069\">4 hours ago</a></span> <span id=\"unv_18956069\"></span> | <a href=\"hide?id=18956069&amp;goto=news\">hide</a> | <a href=\"item?id=18956069\">39&nbsp;comments</a>              </td></tr>\n",
      "      <tr class=\"spacer\" style=\"height:5px\"></tr>\n",
      "                <tr class='athing' id='18953542'>\n",
      "      <td align=\"right\" valign=\"top\" class=\"title\"><span class=\"rank\">7.</span></td>      <td valign=\"top\" class=\"votelinks\"><center><a id='up_18953542' href='vote?id=18953542&amp;how=up&amp;goto=news'><div class='votearrow' title='upvote'></div></a></center></td><td class=\"title\"><a href=\"https://alexmeub.com/old-windows-icons/\" class=\"storylink\">Windows 98 Icons are Great</a><span class=\"sitebit comhead\"> (<a href=\"from?site=alexmeub.com\"><span class=\"sitestr\">alexmeub.com</span></a>)</span></td></tr><tr><td colspan=\"2\"></td><td class=\"subtext\">\n",
      "        <span class=\"score\" id=\"score_18953542\">397 points</span> by <a href=\"user?id=maxmouchet\" class=\"hnuser\">maxmouchet</a> <span class=\"age\"><a href=\"item?id=18953542\">11 hours ago</a></span> <span id=\"unv_18953542\"></span> | <a href=\"hide?id=18953542&amp;goto=news\">hide</a> | <a href=\"item?id=18953542\">268&nbsp;comments</a>              </td></tr>\n",
      "      <tr class=\"spacer\" style=\"height:5px\"></tr>\n",
      "                <tr class='athing' id='18946601'>\n",
      "      <td align=\"right\" valign=\"top\" class=\"title\"><span class=\"rank\">8.</span></td>      <td valign=\"top\" class=\"votelinks\"><center><a id='up_18946601' href='vote?id=18946601&amp;how=up&amp;goto=news'><div class='votearrow' title='upvote'></div></a></center></td><td class=\"title\"><a href=\"http://b612-font.com\" class=\"storylink\">B612 is a highly legible open source font to be used on aircraft cockpit screens</a><span class=\"sitebit comhead\"> (<a href=\"from?site=b612-font.com\"><span class=\"sitestr\">b612-font.com</span></a>)</span></td></tr><tr><td colspan=\"2\"></td><td class=\"subtext\">\n",
      "        <span class=\"score\" id=\"score_18946601\">150 points</span> by <a href=\"user?id=bobowzki\" class=\"hnuser\">bobowzki</a> <span class=\"age\"><a href=\"item?id=18946601\">8 hours ago</a></span> <span id=\"unv_18946601\"></span> | <a href=\"hide?id=18946601&amp;goto=news\">hide</a> | <a href=\"item?id=18946601\">58&nbsp;comments</a>              </td></tr>\n",
      "      <tr class=\"spacer\" style=\"height:5px\"></tr>\n",
      "                <tr class='athing' id='18956883'>\n",
      "      <td align=\"right\" valign=\"top\" class=\"title\"><span class=\"rank\">9.</span></td>      <td valign=\"top\" class=\"votelinks\"><center><a id='up_18956883' href='vote?id=18956883&amp;how=up&amp;goto=news'><div class='votearrow' title='upvote'></div></a></center></td><td class=\"title\"><a href=\"https://www.propublica.org/article/filing-taxes-could-be-free-simple-hr-block-intuit-lobbying-against-it\" class=\"storylink\">H&R Block and Intuit Lobby Against Free and Simple Tax Filing (2017)</a><span class=\"sitebit comhead\"> (<a href=\"from?site=propublica.org\"><span class=\"sitestr\">propublica.org</span></a>)</span></td></tr><tr><td colspan=\"2\"></td><td class=\"subtext\">\n",
      "        <span class=\"score\" id=\"score_18956883\">69 points</span> by <a href=\"user?id=aaronbrethorst\" class=\"hnuser\">aaronbrethorst</a> <span class=\"age\"><a href=\"item?id=18956883\">1 hour ago</a></span> <span id=\"unv_18956883\"></span> | <a href=\"hide?id=18956883&amp;goto=news\">hide</a> | <a href=\"item?id=18956883\">15&nbsp;comments</a>              </td></tr>\n",
      "      <tr class=\"spacer\" style=\"height:5px\"></tr>\n",
      "                <tr class='athing' id='18956129'>\n",
      "      <td align=\"right\" valign=\"top\" class=\"title\"><span class=\"rank\">10.</span></td>      <td valign=\"top\" class=\"votelinks\"><center><a id='up_18956129' href='vote?id=18956129&amp;how=up&amp;goto=news'><div class='votearrow' title='upvote'></div></a></center></td><td class=\"title\"><a href=\"https://www.nytimes.com/2019/01/19/opinion/sunday/heart-attack-young-men.html\" class=\"storylink\">My Life After a Heart Attack at 38</a><span class=\"sitebit comhead\"> (<a href=\"from?site=nytimes.com\"><span class=\"sitestr\">nytimes.com</span></a>)</span></td></tr><tr><td colspan=\"2\"></td><td class=\"subtext\">\n",
      "        <span class=\"score\" id=\"score_18956129\">65 points</span> by <a href=\"user?id=onuralp\" class=\"hnuser\">onuralp</a> <span class=\"age\"><a href=\"item?id=18956129\">4 hours ago</a></span> <span id=\"unv_18956129\"></span> | <a href=\"hide?id=18956129&amp;goto=news\">hide</a> | <a href=\"item?id=18956129\">51&nbsp;comments</a>              </td></tr>\n",
      "      <tr class=\"spacer\" style=\"height:5px\"></tr>\n",
      "                <tr class='athing' id='18954221'>\n",
      "      <td align=\"right\" valign=\"top\" class=\"title\"><span class=\"rank\">11.</span></td>      <td valign=\"top\" class=\"votelinks\"><center><a id='up_18954221' href='vote?id=18954221&amp;how=up&amp;goto=news'><div class='votearrow' title='upvote'></div></a></center></td><td class=\"title\"><a href=\"https://www.citylab.com/transportation/2019/01/paris-metro-tickets-prices-kids-bus-ride-disability-fares/580759/\" class=\"storylink\">Paris Will Make Public Transportation Free for Kids</a><span class=\"sitebit comhead\"> (<a href=\"from?site=citylab.com\"><span class=\"sitestr\">citylab.com</span></a>)</span></td></tr><tr><td colspan=\"2\"></td><td class=\"subtext\">\n",
      "        <span class=\"score\" id=\"score_18954221\">127 points</span> by <a href=\"user?id=pseudolus\" class=\"hnuser\">pseudolus</a> <span class=\"age\"><a href=\"item?id=18954221\">9 hours ago</a></span> <span id=\"unv_18954221\"></span> | <a href=\"hide?id=18954221&amp;goto=news\">hide</a> | <a href=\"item?id=18954221\">95&nbsp;comments</a>              </td></tr>\n",
      "      <tr class=\"spacer\" style=\"height:5px\"></tr>\n",
      "                <tr class='athing' id='18955329'>\n",
      "      <td align=\"right\" valign=\"top\" class=\"title\"><span class=\"rank\">12.</span></td>      <td valign=\"top\" class=\"votelinks\"><center><a id='up_18955329' href='vote?id=18955329&amp;how=up&amp;goto=news'><div class='votearrow' title='upvote'></div></a></center></td><td class=\"title\"><a href=\"https://github.com/ssloy/tinyraytracer/wiki\" class=\"storylink\">Lines of bare C++: raytracing made simple</a><span class=\"sitebit comhead\"> (<a href=\"from?site=github.com\"><span class=\"sitestr\">github.com</span></a>)</span></td></tr><tr><td colspan=\"2\"></td><td class=\"subtext\">\n",
      "        <span class=\"score\" id=\"score_18955329\">81 points</span> by <a href=\"user?id=haqreu\" class=\"hnuser\">haqreu</a> <span class=\"age\"><a href=\"item?id=18955329\">7 hours ago</a></span> <span id=\"unv_18955329\"></span> | <a href=\"hide?id=18955329&amp;goto=news\">hide</a> | <a href=\"item?id=18955329\">6&nbsp;comments</a>              </td></tr>\n",
      "      <tr class=\"spacer\" style=\"height:5px\"></tr>\n",
      "                <tr class='athing' id='18952193'>\n",
      "      <td align=\"right\" valign=\"top\" class=\"title\"><span class=\"rank\">13.</span></td>      <td valign=\"top\" class=\"votelinks\"><center><a id='up_18952193' href='vote?id=18952193&amp;how=up&amp;goto=news'><div class='votearrow' title='upvote'></div></a></center></td><td class=\"title\"><a href=\"https://www.atlasobscura.com/articles/pointing-and-calling-japan-trains\" class=\"storylink\">Japan's Rail Workers Pointing at Things (2017)</a><span class=\"sitebit comhead\"> (<a href=\"from?site=atlasobscura.com\"><span class=\"sitestr\">atlasobscura.com</span></a>)</span></td></tr><tr><td colspan=\"2\"></td><td class=\"subtext\">\n",
      "        <span class=\"score\" id=\"score_18952193\">186 points</span> by <a href=\"user?id=ColinWright\" class=\"hnuser\">ColinWright</a> <span class=\"age\"><a href=\"item?id=18952193\">10 hours ago</a></span> <span id=\"unv_18952193\"></span> | <a href=\"hide?id=18952193&amp;goto=news\">hide</a> | <a href=\"item?id=18952193\">70&nbsp;comments</a>              </td></tr>\n",
      "      <tr class=\"spacer\" style=\"height:5px\"></tr>\n",
      "                <tr class='athing' id='18956049'>\n",
      "      <td align=\"right\" valign=\"top\" class=\"title\"><span class=\"rank\">14.</span></td>      <td valign=\"top\" class=\"votelinks\"><center><a id='up_18956049' href='vote?id=18956049&amp;how=up&amp;goto=news'><div class='votearrow' title='upvote'></div></a></center></td><td class=\"title\"><a href=\"https://quuxplusone.github.io/blog/2019/01/20/covariance-and-contravariance/\" class=\"storylink\">Covariance and contravariance in C++</a><span class=\"sitebit comhead\"> (<a href=\"from?site=quuxplusone.github.io\"><span class=\"sitestr\">quuxplusone.github.io</span></a>)</span></td></tr><tr><td colspan=\"2\"></td><td class=\"subtext\">\n",
      "        <span class=\"score\" id=\"score_18956049\">36 points</span> by <a href=\"user?id=ingve\" class=\"hnuser\">ingve</a> <span class=\"age\"><a href=\"item?id=18956049\">4 hours ago</a></span> <span id=\"unv_18956049\"></span> | <a href=\"hide?id=18956049&amp;goto=news\">hide</a> | <a href=\"item?id=18956049\">6&nbsp;comments</a>              </td></tr>\n",
      "      <tr class=\"spacer\" style=\"height:5px\"></tr>\n",
      "                <tr class='athing' id='18953905'>\n",
      "      <td align=\"right\" valign=\"top\" class=\"title\"><span class=\"rank\">15.</span></td>      <td valign=\"top\" class=\"votelinks\"><center><a id='up_18953905' href='vote?id=18953905&amp;how=up&amp;goto=news'><div class='votearrow' title='upvote'></div></a></center></td><td class=\"title\"><a href=\"https://buildabroad.org/2016/09/27/ferrock/\" class=\"storylink\">Ferrock: A Stronger, Greener Alternative to Concrete?</a><span class=\"sitebit comhead\"> (<a href=\"from?site=buildabroad.org\"><span class=\"sitestr\">buildabroad.org</span></a>)</span></td></tr><tr><td colspan=\"2\"></td><td class=\"subtext\">\n",
      "        <span class=\"score\" id=\"score_18953905\">120 points</span> by <a href=\"user?id=vezycash\" class=\"hnuser\">vezycash</a> <span class=\"age\"><a href=\"item?id=18953905\">10 hours ago</a></span> <span id=\"unv_18953905\"></span> | <a href=\"hide?id=18953905&amp;goto=news\">hide</a> | <a href=\"item?id=18953905\">60&nbsp;comments</a>              </td></tr>\n",
      "      <tr class=\"spacer\" style=\"height:5px\"></tr>\n",
      "                <tr class='athing' id='18952985'>\n",
      "      <td align=\"right\" valign=\"top\" class=\"title\"><span class=\"rank\">16.</span></td>      <td valign=\"top\" class=\"votelinks\"><center><a id='up_18952985' href='vote?id=18952985&amp;how=up&amp;goto=news'><div class='votearrow' title='upvote'></div></a></center></td><td class=\"title\"><a href=\"http://www.newyorker.com/magazine/2013/09/09/walking-normally-the-facts\" class=\"storylink\" rel=\"nofollow\">Walking Normally: the Facts (2013)</a><span class=\"sitebit comhead\"> (<a href=\"from?site=newyorker.com\"><span class=\"sitestr\">newyorker.com</span></a>)</span></td></tr><tr><td colspan=\"2\"></td><td class=\"subtext\">\n",
      "        <span class=\"score\" id=\"score_18952985\">7 points</span> by <a href=\"user?id=Tomte\" class=\"hnuser\">Tomte</a> <span class=\"age\"><a href=\"item?id=18952985\">1 hour ago</a></span> <span id=\"unv_18952985\"></span> | <a href=\"hide?id=18952985&amp;goto=news\">hide</a> | <a href=\"item?id=18952985\">discuss</a>              </td></tr>\n",
      "      <tr class=\"spacer\" style=\"height:5px\"></tr>\n",
      "                <tr class='athing' id='18954890'>\n",
      "      <td align=\"right\" valign=\"top\" class=\"title\"><span class=\"rank\">17.</span></td>      <td valign=\"top\" class=\"votelinks\"><center><a id='up_18954890' href='vote?id=18954890&amp;how=up&amp;goto=news'><div class='votearrow' title='upvote'></div></a></center></td><td class=\"title\"><a href=\"item?id=18954890\" class=\"storylink\">Show HN: Nanosecond C message logger</a></td></tr><tr><td colspan=\"2\"></td><td class=\"subtext\">\n",
      "        <span class=\"score\" id=\"score_18954890\">83 points</span> by <a href=\"user?id=RafaGC\" class=\"hnuser\">RafaGC</a> <span class=\"age\"><a href=\"item?id=18954890\">8 hours ago</a></span> <span id=\"unv_18954890\"></span> | <a href=\"hide?id=18954890&amp;goto=news\">hide</a> | <a href=\"item?id=18954890\">5&nbsp;comments</a>              </td></tr>\n",
      "      <tr class=\"spacer\" style=\"height:5px\"></tr>\n",
      "                <tr class='athing' id='18952479'>\n",
      "      <td align=\"right\" valign=\"top\" class=\"title\"><span class=\"rank\">18.</span></td>      <td valign=\"top\" class=\"votelinks\"><center><a id='up_18952479' href='vote?id=18952479&amp;how=up&amp;goto=news'><div class='votearrow' title='upvote'></div></a></center></td><td class=\"title\"><a href=\"http://blogs.valvesoftware.com/economics/arbitrage-and-equilibrium-in-the-team-fortress-2-economy/\" class=\"storylink\">Arbitrage and Equilibrium in the Team Fortress 2 Economy (2012)</a><span class=\"sitebit comhead\"> (<a href=\"from?site=valvesoftware.com\"><span class=\"sitestr\">valvesoftware.com</span></a>)</span></td></tr><tr><td colspan=\"2\"></td><td class=\"subtext\">\n",
      "        <span class=\"score\" id=\"score_18952479\">33 points</span> by <a href=\"user?id=pizza\" class=\"hnuser\">pizza</a> <span class=\"age\"><a href=\"item?id=18952479\">6 hours ago</a></span> <span id=\"unv_18952479\"></span> | <a href=\"hide?id=18952479&amp;goto=news\">hide</a> | <a href=\"item?id=18952479\">9&nbsp;comments</a>              </td></tr>\n",
      "      <tr class=\"spacer\" style=\"height:5px\"></tr>\n",
      "                <tr class='athing' id='18953889'>\n",
      "      <td align=\"right\" valign=\"top\" class=\"title\"><span class=\"rank\">19.</span></td>      <td valign=\"top\" class=\"votelinks\"><center><a id='up_18953889' href='vote?id=18953889&amp;how=up&amp;goto=news'><div class='votearrow' title='upvote'></div></a></center></td><td class=\"title\"><a href=\"https://write.as/simonfrey/how-switching-my-parents-over-to-linux-saved-me-a-lot-of-headache-and-support\" class=\"storylink\">Switching my parents over to Linux saved me a lot of headache and support calls</a><span class=\"sitebit comhead\"> (<a href=\"from?site=write.as\"><span class=\"sitestr\">write.as</span></a>)</span></td></tr><tr><td colspan=\"2\"></td><td class=\"subtext\">\n",
      "        <span class=\"score\" id=\"score_18953889\">265 points</span> by <a href=\"user?id=l1am0\" class=\"hnuser\">l1am0</a> <span class=\"age\"><a href=\"item?id=18953889\">10 hours ago</a></span> <span id=\"unv_18953889\"></span> | <a href=\"hide?id=18953889&amp;goto=news\">hide</a> | <a href=\"item?id=18953889\">238&nbsp;comments</a>              </td></tr>\n",
      "      <tr class=\"spacer\" style=\"height:5px\"></tr>\n",
      "                <tr class='athing' id='18956371'>\n",
      "      <td align=\"right\" valign=\"top\" class=\"title\"><span class=\"rank\">20.</span></td>      <td valign=\"top\" class=\"votelinks\"><center><a id='up_18956371' href='vote?id=18956371&amp;how=up&amp;goto=news'><div class='votearrow' title='upvote'></div></a></center></td><td class=\"title\"><a href=\"https://twitter.com/_kariedaway_/status/1086913043932446721\" class=\"storylink\">Tesla laid off my disabled veteran husband then cancelled his sign on bonus</a><span class=\"sitebit comhead\"> (<a href=\"from?site=twitter.com\"><span class=\"sitestr\">twitter.com</span></a>)</span></td></tr><tr><td colspan=\"2\"></td><td class=\"subtext\">\n",
      "        <span class=\"score\" id=\"score_18956371\">137 points</span> by <a href=\"user?id=inarrears\" class=\"hnuser\">inarrears</a> <span class=\"age\"><a href=\"item?id=18956371\">3 hours ago</a></span> <span id=\"unv_18956371\"></span> | <a href=\"hide?id=18956371&amp;goto=news\">hide</a> | <a href=\"item?id=18956371\">91&nbsp;comments</a>              </td></tr>\n",
      "      <tr class=\"spacer\" style=\"height:5px\"></tr>\n",
      "                <tr class='athing' id='18953275'>\n",
      "      <td align=\"right\" valign=\"top\" class=\"title\"><span class=\"rank\">21.</span></td>      <td valign=\"top\" class=\"votelinks\"><center><a id='up_18953275' href='vote?id=18953275&amp;how=up&amp;goto=news'><div class='votearrow' title='upvote'></div></a></center></td><td class=\"title\"><a href=\"http://news.mit.edu/2019/mapping-brain-high-resolution-0117\" class=\"storylink\">Mapping the Brain at High Resolution</a><span class=\"sitebit comhead\"> (<a href=\"from?site=mit.edu\"><span class=\"sitestr\">mit.edu</span></a>)</span></td></tr><tr><td colspan=\"2\"></td><td class=\"subtext\">\n",
      "        <span class=\"score\" id=\"score_18953275\">50 points</span> by <a href=\"user?id=ArtWomb\" class=\"hnuser\">ArtWomb</a> <span class=\"age\"><a href=\"item?id=18953275\">8 hours ago</a></span> <span id=\"unv_18953275\"></span> | <a href=\"hide?id=18953275&amp;goto=news\">hide</a> | <a href=\"item?id=18953275\">8&nbsp;comments</a>              </td></tr>\n",
      "      <tr class=\"spacer\" style=\"height:5px\"></tr>\n",
      "                <tr class='athing' id='18956161'>\n",
      "      <td align=\"right\" valign=\"top\" class=\"title\"><span class=\"rank\">22.</span></td>      <td valign=\"top\" class=\"votelinks\"><center><a id='up_18956161' href='vote?id=18956161&amp;how=up&amp;goto=news'><div class='votearrow' title='upvote'></div></a></center></td><td class=\"title\"><a href=\"http://www.aes.org/e-lib/browse.cfm?elib=18523\" class=\"storylink\">Effects of MP3 Compression on Perceived Emotional Characteristics in Music</a><span class=\"sitebit comhead\"> (<a href=\"from?site=aes.org\"><span class=\"sitestr\">aes.org</span></a>)</span></td></tr><tr><td colspan=\"2\"></td><td class=\"subtext\">\n",
      "        <span class=\"score\" id=\"score_18956161\">14 points</span> by <a href=\"user?id=pbowyer\" class=\"hnuser\">pbowyer</a> <span class=\"age\"><a href=\"item?id=18956161\">4 hours ago</a></span> <span id=\"unv_18956161\"></span> | <a href=\"hide?id=18956161&amp;goto=news\">hide</a> | <a href=\"item?id=18956161\">14&nbsp;comments</a>              </td></tr>\n",
      "      <tr class=\"spacer\" style=\"height:5px\"></tr>\n",
      "                <tr class='athing' id='18951455'>\n",
      "      <td align=\"right\" valign=\"top\" class=\"title\"><span class=\"rank\">23.</span></td>      <td valign=\"top\" class=\"votelinks\"><center><a id='up_18951455' href='vote?id=18951455&amp;how=up&amp;goto=news'><div class='votearrow' title='upvote'></div></a></center></td><td class=\"title\"><a href=\"http://www.antarctica.gov.au/science/science-support/scientific-equipment\" class=\"storylink\">Planning scientific equipment for Antarctic conditions</a><span class=\"sitebit comhead\"> (<a href=\"from?site=antarctica.gov.au\"><span class=\"sitestr\">antarctica.gov.au</span></a>)</span></td></tr><tr><td colspan=\"2\"></td><td class=\"subtext\">\n",
      "        <span class=\"score\" id=\"score_18951455\">29 points</span> by <a href=\"user?id=owenversteeg\" class=\"hnuser\">owenversteeg</a> <span class=\"age\"><a href=\"item?id=18951455\">6 hours ago</a></span> <span id=\"unv_18951455\"></span> | <a href=\"hide?id=18951455&amp;goto=news\">hide</a> | <a href=\"item?id=18951455\">11&nbsp;comments</a>              </td></tr>\n",
      "      <tr class=\"spacer\" style=\"height:5px\"></tr>\n",
      "                <tr class='athing' id='18952755'>\n",
      "      <td align=\"right\" valign=\"top\" class=\"title\"><span class=\"rank\">24.</span></td>      <td valign=\"top\" class=\"votelinks\"><center><a id='up_18952755' href='vote?id=18952755&amp;how=up&amp;goto=news'><div class='votearrow' title='upvote'></div></a></center></td><td class=\"title\"><a href=\"https://begriffs.com/posts/2019-01-19-inside-c-standard-lib.html\" class=\"storylink\">Inside the C Standard Library</a><span class=\"sitebit comhead\"> (<a href=\"from?site=begriffs.com\"><span class=\"sitestr\">begriffs.com</span></a>)</span></td></tr><tr><td colspan=\"2\"></td><td class=\"subtext\">\n",
      "        <span class=\"score\" id=\"score_18952755\">155 points</span> by <a href=\"user?id=signa11\" class=\"hnuser\">signa11</a> <span class=\"age\"><a href=\"item?id=18952755\">14 hours ago</a></span> <span id=\"unv_18952755\"></span> | <a href=\"hide?id=18952755&amp;goto=news\">hide</a> | <a href=\"item?id=18952755\">47&nbsp;comments</a>              </td></tr>\n",
      "      <tr class=\"spacer\" style=\"height:5px\"></tr>\n",
      "                <tr class='athing' id='18953040'>\n",
      "      <td align=\"right\" valign=\"top\" class=\"title\"><span class=\"rank\">25.</span></td>      <td valign=\"top\" class=\"votelinks\"><center><a id='up_18953040' href='vote?id=18953040&amp;how=up&amp;goto=news'><div class='votearrow' title='upvote'></div></a></center></td><td class=\"title\"><a href=\"https://redom.js.org/\" class=\"storylink\">RE:DOM – Tiny turboboosted JavaScript library for creating user interfaces</a><span class=\"sitebit comhead\"> (<a href=\"from?site=js.org\"><span class=\"sitestr\">js.org</span></a>)</span></td></tr><tr><td colspan=\"2\"></td><td class=\"subtext\">\n",
      "        <span class=\"score\" id=\"score_18953040\">97 points</span> by <a href=\"user?id=edward\" class=\"hnuser\">edward</a> <span class=\"age\"><a href=\"item?id=18953040\">13 hours ago</a></span> <span id=\"unv_18953040\"></span> | <a href=\"hide?id=18953040&amp;goto=news\">hide</a> | <a href=\"item?id=18953040\">68&nbsp;comments</a>              </td></tr>\n",
      "      <tr class=\"spacer\" style=\"height:5px\"></tr>\n",
      "                <tr class='athing' id='18953174'>\n",
      "      <td align=\"right\" valign=\"top\" class=\"title\"><span class=\"rank\">26.</span></td>      <td valign=\"top\" class=\"votelinks\"><center><a id='up_18953174' href='vote?id=18953174&amp;how=up&amp;goto=news'><div class='votearrow' title='upvote'></div></a></center></td><td class=\"title\"><a href=\"https://techcrunch.com/2019/01/20/technologys-dark-forest/\" class=\"storylink\">Technology’s dark forest</a><span class=\"sitebit comhead\"> (<a href=\"from?site=techcrunch.com\"><span class=\"sitestr\">techcrunch.com</span></a>)</span></td></tr><tr><td colspan=\"2\"></td><td class=\"subtext\">\n",
      "        <span class=\"score\" id=\"score_18953174\">83 points</span> by <a href=\"user?id=kaboro\" class=\"hnuser\">kaboro</a> <span class=\"age\"><a href=\"item?id=18953174\">13 hours ago</a></span> <span id=\"unv_18953174\"></span> | <a href=\"hide?id=18953174&amp;goto=news\">hide</a> | <a href=\"item?id=18953174\">46&nbsp;comments</a>              </td></tr>\n",
      "      <tr class=\"spacer\" style=\"height:5px\"></tr>\n",
      "                <tr class='athing' id='18951301'>\n",
      "      <td align=\"right\" valign=\"top\" class=\"title\"><span class=\"rank\">27.</span></td>      <td valign=\"top\" class=\"votelinks\"><center><a id='up_18951301' href='vote?id=18951301&amp;how=up&amp;goto=news'><div class='votearrow' title='upvote'></div></a></center></td><td class=\"title\"><a href=\"https://www.youtube.com/watch?v=yYd-3mTr_2I\" class=\"storylink\">How To Edit A Low-Budget Blockbuster [video]</a><span class=\"sitebit comhead\"> (<a href=\"from?site=youtube.com\"><span class=\"sitestr\">youtube.com</span></a>)</span></td></tr><tr><td colspan=\"2\"></td><td class=\"subtext\">\n",
      "        <span class=\"score\" id=\"score_18951301\">57 points</span> by <a href=\"user?id=skilled\" class=\"hnuser\">skilled</a> <span class=\"age\"><a href=\"item?id=18951301\">11 hours ago</a></span> <span id=\"unv_18951301\"></span> | <a href=\"hide?id=18951301&amp;goto=news\">hide</a> | <a href=\"item?id=18951301\">4&nbsp;comments</a>              </td></tr>\n",
      "      <tr class=\"spacer\" style=\"height:5px\"></tr>\n",
      "                <tr class='athing' id='18957212'>\n",
      "      <td align=\"right\" valign=\"top\" class=\"title\"><span class=\"rank\">28.</span></td>      <td valign=\"top\" class=\"votelinks\"><center><a id='up_18957212' href='vote?id=18957212&amp;how=up&amp;goto=news'><div class='votearrow' title='upvote'></div></a></center></td><td class=\"title\"><a href=\"https://www.abc.net.au/news/2019-01-21/lime-scooters-cause-issues-for-vision-impaired-residents/10731510\" class=\"storylink\">Lime scooters are causing some issues for Brisbane's vision impaired community</a><span class=\"sitebit comhead\"> (<a href=\"from?site=abc.net.au\"><span class=\"sitestr\">abc.net.au</span></a>)</span></td></tr><tr><td colspan=\"2\"></td><td class=\"subtext\">\n",
      "        <span class=\"score\" id=\"score_18957212\">8 points</span> by <a href=\"user?id=clouddrover\" class=\"hnuser\">clouddrover</a> <span class=\"age\"><a href=\"item?id=18957212\">46 minutes ago</a></span> <span id=\"unv_18957212\"></span> | <a href=\"hide?id=18957212&amp;goto=news\">hide</a> | <a href=\"item?id=18957212\">discuss</a>              </td></tr>\n",
      "      <tr class=\"spacer\" style=\"height:5px\"></tr>\n",
      "                <tr class='athing' id='18953697'>\n",
      "      <td align=\"right\" valign=\"top\" class=\"title\"><span class=\"rank\">29.</span></td>      <td valign=\"top\" class=\"votelinks\"><center><a id='up_18953697' href='vote?id=18953697&amp;how=up&amp;goto=news'><div class='votearrow' title='upvote'></div></a></center></td><td class=\"title\"><a href=\"https://github.com/martinraison/ascii-tv\" class=\"storylink\">Show HN: ASCII TV – Stream ASCII movies in your terminal with curl</a><span class=\"sitebit comhead\"> (<a href=\"from?site=github.com\"><span class=\"sitestr\">github.com</span></a>)</span></td></tr><tr><td colspan=\"2\"></td><td class=\"subtext\">\n",
      "        <span class=\"score\" id=\"score_18953697\">81 points</span> by <a href=\"user?id=mraison\" class=\"hnuser\">mraison</a> <span class=\"age\"><a href=\"item?id=18953697\">11 hours ago</a></span> <span id=\"unv_18953697\"></span> | <a href=\"hide?id=18953697&amp;goto=news\">hide</a> | <a href=\"item?id=18953697\">21&nbsp;comments</a>              </td></tr>\n",
      "      <tr class=\"spacer\" style=\"height:5px\"></tr>\n",
      "                <tr class='athing' id='18951732'>\n",
      "      <td align=\"right\" valign=\"top\" class=\"title\"><span class=\"rank\">30.</span></td>      <td valign=\"top\" class=\"votelinks\"><center><a id='up_18951732' href='vote?id=18951732&amp;how=up&amp;goto=news'><div class='votearrow' title='upvote'></div></a></center></td><td class=\"title\"><a href=\"http://ai.stanford.edu/blog/altruistic-autonomy/\" class=\"storylink\">Altruistic Autonomy: Beating Congestion on Shared Roads</a><span class=\"sitebit comhead\"> (<a href=\"from?site=stanford.edu\"><span class=\"sitestr\">stanford.edu</span></a>)</span></td></tr><tr><td colspan=\"2\"></td><td class=\"subtext\">\n",
      "        <span class=\"score\" id=\"score_18951732\">23 points</span> by <a href=\"user?id=whoisnnamdi\" class=\"hnuser\">whoisnnamdi</a> <span class=\"age\"><a href=\"item?id=18951732\">8 hours ago</a></span> <span id=\"unv_18951732\"></span> | <a href=\"hide?id=18951732&amp;goto=news\">hide</a> | <a href=\"item?id=18951732\">10&nbsp;comments</a>              </td></tr>\n",
      "      <tr class=\"spacer\" style=\"height:5px\"></tr>\n",
      "            <tr class=\"morespace\" style=\"height:10px\"></tr><tr><td colspan=\"2\"></td><td class=\"title\"><a href=\"news?p=2\" class=\"morelink\" rel=\"nofollow\">More</a></td></tr>\n",
      "  </table>\n",
      "</td></tr>\n",
      "<tr><td><img src=\"s.gif\" height=\"10\" width=\"0\"><table width=\"100%\" cellspacing=\"0\" cellpadding=\"1\"><tr><td bgcolor=\"#ff6600\"></td></tr></table><br><center><span class=\"yclinks\"><a href=\"newsguidelines.html\">Guidelines</a>\n",
      "        | <a href=\"newsfaq.html\">FAQ</a>\n",
      "        | <a href=\"mailto:hn@ycombinator.com\">Support</a>\n",
      "        | <a href=\"https://github.com/HackerNews/API\">API</a>\n",
      "        | <a href=\"security.html\">Security</a>\n",
      "        | <a href=\"lists\">Lists</a>\n",
      "        | <a href=\"bookmarklet.html\" rel=\"nofollow\">Bookmarklet</a>\n",
      "        | <a href=\"http://www.ycombinator.com/legal/\">Legal</a>\n",
      "        | <a href=\"http://www.ycombinator.com/apply/\">Apply to YC</a>\n",
      "        | <a href=\"mailto:hn@ycombinator.com\">Contact</a></span><br><br><form method=\"get\" action=\"//hn.algolia.com/\">Search:\n",
      "          <input type=\"text\" name=\"q\" value=\"\" size=\"17\" autocorrect=\"off\" spellcheck=\"false\" autocapitalize=\"off\" autocomplete=\"false\"></form>\n",
      "            </center></td></tr>\n",
      "      </table></center></body><script type='text/javascript' src='hn.js?dZ6B1WGk3BSv5ue5iJ4L'></script>\n",
      "  </html>\n",
      "\n"
     ]
    }
   ],
   "source": [
    "import requests\n",
    "\n",
    "# Fetch a web page\n",
    "r = requests.get(\"https://news.ycombinator.com\")\n",
    "print(r.text)"
   ]
  },
  {
   "cell_type": "code",
   "execution_count": 5,
   "metadata": {},
   "outputs": [
    {
     "name": "stdout",
     "output_type": "stream",
     "text": [
      "\n",
      "            \n",
      "          \n",
      "        Hacker News\n",
      "        \n",
      "                  Hacker News\n",
      "              new | comments | ask | show | jobs | submit            \n",
      "                              login\n",
      "                          \n",
      "              \n",
      "\n",
      "              \n",
      "      1.      NumPy 1.16 released as the last version to support Python2 (github.com)\n",
      "        46 points by htfy96 3 hours ago  | hide | 19&nbsp;comments              \n",
      "      \n",
      "                \n",
      "      2.      Trouble hiring senior engineers? It's probably you (hiringengineersbook.com)\n",
      "        307 points by ashitlerferad 5 hours ago  | hide | 251&nbsp;comments              \n",
      "      \n",
      "                \n",
      "      3.      Proper Breathing Brings Better Health (scientificamerican.com)\n",
      "        97 points by pseudolus 5 hours ago  | hide | 27&nbsp;comments              \n",
      "      \n",
      "                \n",
      "      4.      Kubernetes Failure Stories (srcco.de)\n",
      "        358 points by hjacobs 11 hours ago  | hide | 137&nbsp;comments              \n",
      "      \n",
      "                \n",
      "      5.      Body-painting protects against bloodsucking insects (sciencedaily.com)\n",
      "        103 points by curtis 6 hours ago  | hide | 37&nbsp;comments              \n",
      "      \n",
      "                \n",
      "      6.      Google launches an AI contest for social good (ai.google)\n",
      "        60 points by saranshk 4 hours ago  | hide | 39&nbsp;comments              \n",
      "      \n",
      "                \n",
      "      7.      Windows 98 Icons are Great (alexmeub.com)\n",
      "        397 points by maxmouchet 11 hours ago  | hide | 268&nbsp;comments              \n",
      "      \n",
      "                \n",
      "      8.      B612 is a highly legible open source font to be used on aircraft cockpit screens (b612-font.com)\n",
      "        150 points by bobowzki 8 hours ago  | hide | 58&nbsp;comments              \n",
      "      \n",
      "                \n",
      "      9.      H&R Block and Intuit Lobby Against Free and Simple Tax Filing (2017) (propublica.org)\n",
      "        69 points by aaronbrethorst 1 hour ago  | hide | 15&nbsp;comments              \n",
      "      \n",
      "                \n",
      "      10.      My Life After a Heart Attack at 38 (nytimes.com)\n",
      "        65 points by onuralp 4 hours ago  | hide | 51&nbsp;comments              \n",
      "      \n",
      "                \n",
      "      11.      Paris Will Make Public Transportation Free for Kids (citylab.com)\n",
      "        127 points by pseudolus 9 hours ago  | hide | 95&nbsp;comments              \n",
      "      \n",
      "                \n",
      "      12.      Lines of bare C++: raytracing made simple (github.com)\n",
      "        81 points by haqreu 7 hours ago  | hide | 6&nbsp;comments              \n",
      "      \n",
      "                \n",
      "      13.      Japan's Rail Workers Pointing at Things (2017) (atlasobscura.com)\n",
      "        186 points by ColinWright 10 hours ago  | hide | 70&nbsp;comments              \n",
      "      \n",
      "                \n",
      "      14.      Covariance and contravariance in C++ (quuxplusone.github.io)\n",
      "        36 points by ingve 4 hours ago  | hide | 6&nbsp;comments              \n",
      "      \n",
      "                \n",
      "      15.      Ferrock: A Stronger, Greener Alternative to Concrete? (buildabroad.org)\n",
      "        120 points by vezycash 10 hours ago  | hide | 60&nbsp;comments              \n",
      "      \n",
      "                \n",
      "      16.      Walking Normally: the Facts (2013) (newyorker.com)\n",
      "        7 points by Tomte 1 hour ago  | hide | discuss              \n",
      "      \n",
      "                \n",
      "      17.      Show HN: Nanosecond C message logger\n",
      "        83 points by RafaGC 8 hours ago  | hide | 5&nbsp;comments              \n",
      "      \n",
      "                \n",
      "      18.      Arbitrage and Equilibrium in the Team Fortress 2 Economy (2012) (valvesoftware.com)\n",
      "        33 points by pizza 6 hours ago  | hide | 9&nbsp;comments              \n",
      "      \n",
      "                \n",
      "      19.      Switching my parents over to Linux saved me a lot of headache and support calls (write.as)\n",
      "        265 points by l1am0 10 hours ago  | hide | 238&nbsp;comments              \n",
      "      \n",
      "                \n",
      "      20.      Tesla laid off my disabled veteran husband then cancelled his sign on bonus (twitter.com)\n",
      "        137 points by inarrears 3 hours ago  | hide | 91&nbsp;comments              \n",
      "      \n",
      "                \n",
      "      21.      Mapping the Brain at High Resolution (mit.edu)\n",
      "        50 points by ArtWomb 8 hours ago  | hide | 8&nbsp;comments              \n",
      "      \n",
      "                \n",
      "      22.      Effects of MP3 Compression on Perceived Emotional Characteristics in Music (aes.org)\n",
      "        14 points by pbowyer 4 hours ago  | hide | 14&nbsp;comments              \n",
      "      \n",
      "                \n",
      "      23.      Planning scientific equipment for Antarctic conditions (antarctica.gov.au)\n",
      "        29 points by owenversteeg 6 hours ago  | hide | 11&nbsp;comments              \n",
      "      \n",
      "                \n",
      "      24.      Inside the C Standard Library (begriffs.com)\n",
      "        155 points by signa11 14 hours ago  | hide | 47&nbsp;comments              \n",
      "      \n",
      "                \n",
      "      25.      RE:DOM – Tiny turboboosted JavaScript library for creating user interfaces (js.org)\n",
      "        97 points by edward 13 hours ago  | hide | 68&nbsp;comments              \n",
      "      \n",
      "                \n",
      "      26.      Technology’s dark forest (techcrunch.com)\n",
      "        83 points by kaboro 13 hours ago  | hide | 46&nbsp;comments              \n",
      "      \n",
      "                \n",
      "      27.      How To Edit A Low-Budget Blockbuster [video] (youtube.com)\n",
      "        57 points by skilled 11 hours ago  | hide | 4&nbsp;comments              \n",
      "      \n",
      "                \n",
      "      28.      Lime scooters are causing some issues for Brisbane's vision impaired community (abc.net.au)\n",
      "        8 points by clouddrover 46 minutes ago  | hide | discuss              \n",
      "      \n",
      "                \n",
      "      29.      Show HN: ASCII TV – Stream ASCII movies in your terminal with curl (github.com)\n",
      "        81 points by mraison 11 hours ago  | hide | 21&nbsp;comments              \n",
      "      \n",
      "                \n",
      "      30.      Altruistic Autonomy: Beating Congestion on Shared Roads (stanford.edu)\n",
      "        23 points by whoisnnamdi 8 hours ago  | hide | 10&nbsp;comments              \n",
      "      \n",
      "            More\n",
      "  \n",
      "\n",
      "Guidelines\n",
      "        | FAQ\n",
      "        | Support\n",
      "        | API\n",
      "        | Security\n",
      "        | Lists\n",
      "        | Bookmarklet\n",
      "        | Legal\n",
      "        | Apply to YC\n",
      "        | ContactSearch:\n",
      "          \n",
      "            \n",
      "      \n",
      "  \n",
      "\n"
     ]
    }
   ],
   "source": [
    "import re\n",
    "\n",
    "# Remove HTML tags using RegEx\n",
    "pattern = re.compile(r'<.*?>')  # tags look like <...>\n",
    "print(pattern.sub('', r.text))  # replace them with blank"
   ]
  },
  {
   "cell_type": "code",
   "execution_count": 6,
   "metadata": {},
   "outputs": [
    {
     "name": "stdout",
     "output_type": "stream",
     "text": [
      "\n",
      "            \n",
      "          \n",
      "        Hacker News\n",
      "        \n",
      "                  Hacker News\n",
      "              new | comments | ask | show | jobs | submit            \n",
      "                              login\n",
      "                          \n",
      "              \n",
      "\n",
      "              \n",
      "      1.      NumPy 1.16 released as the last version to support Python2 (github.com)\n",
      "        46 points by htfy96 3 hours ago  | hide | 19 comments              \n",
      "      \n",
      "                \n",
      "      2.      Trouble hiring senior engineers? It's probably you (hiringengineersbook.com)\n",
      "        307 points by ashitlerferad 5 hours ago  | hide | 251 comments              \n",
      "      \n",
      "                \n",
      "      3.      Proper Breathing Brings Better Health (scientificamerican.com)\n",
      "        97 points by pseudolus 5 hours ago  | hide | 27 comments              \n",
      "      \n",
      "                \n",
      "      4.      Kubernetes Failure Stories (srcco.de)\n",
      "        358 points by hjacobs 11 hours ago  | hide | 137 comments              \n",
      "      \n",
      "                \n",
      "      5.      Body-painting protects against bloodsucking insects (sciencedaily.com)\n",
      "        103 points by curtis 6 hours ago  | hide | 37 comments              \n",
      "      \n",
      "                \n",
      "      6.      Google launches an AI contest for social good (ai.google)\n",
      "        60 points by saranshk 4 hours ago  | hide | 39 comments              \n",
      "      \n",
      "                \n",
      "      7.      Windows 98 Icons are Great (alexmeub.com)\n",
      "        397 points by maxmouchet 11 hours ago  | hide | 268 comments              \n",
      "      \n",
      "                \n",
      "      8.      B612 is a highly legible open source font to be used on aircraft cockpit screens (b612-font.com)\n",
      "        150 points by bobowzki 8 hours ago  | hide | 58 comments              \n",
      "      \n",
      "                \n",
      "      9.      H&R Block and Intuit Lobby Against Free and Simple Tax Filing (2017) (propublica.org)\n",
      "        69 points by aaronbrethorst 1 hour ago  | hide | 15 comments              \n",
      "      \n",
      "                \n",
      "      10.      My Life After a Heart Attack at 38 (nytimes.com)\n",
      "        65 points by onuralp 4 hours ago  | hide | 51 comments              \n",
      "      \n",
      "                \n",
      "      11.      Paris Will Make Public Transportation Free for Kids (citylab.com)\n",
      "        127 points by pseudolus 9 hours ago  | hide | 95 comments              \n",
      "      \n",
      "                \n",
      "      12.      Lines of bare C++: raytracing made simple (github.com)\n",
      "        81 points by haqreu 7 hours ago  | hide | 6 comments              \n",
      "      \n",
      "                \n",
      "      13.      Japan's Rail Workers Pointing at Things (2017) (atlasobscura.com)\n",
      "        186 points by ColinWright 10 hours ago  | hide | 70 comments              \n",
      "      \n",
      "                \n",
      "      14.      Covariance and contravariance in C++ (quuxplusone.github.io)\n",
      "        36 points by ingve 4 hours ago  | hide | 6 comments              \n",
      "      \n",
      "                \n",
      "      15.      Ferrock: A Stronger, Greener Alternative to Concrete? (buildabroad.org)\n",
      "        120 points by vezycash 10 hours ago  | hide | 60 comments              \n",
      "      \n",
      "                \n",
      "      16.      Walking Normally: the Facts (2013) (newyorker.com)\n",
      "        7 points by Tomte 1 hour ago  | hide | discuss              \n",
      "      \n",
      "                \n",
      "      17.      Show HN: Nanosecond C message logger\n",
      "        83 points by RafaGC 8 hours ago  | hide | 5 comments              \n",
      "      \n",
      "                \n",
      "      18.      Arbitrage and Equilibrium in the Team Fortress 2 Economy (2012) (valvesoftware.com)\n",
      "        33 points by pizza 6 hours ago  | hide | 9 comments              \n",
      "      \n",
      "                \n",
      "      19.      Switching my parents over to Linux saved me a lot of headache and support calls (write.as)\n",
      "        265 points by l1am0 10 hours ago  | hide | 238 comments              \n",
      "      \n",
      "                \n",
      "      20.      Tesla laid off my disabled veteran husband then cancelled his sign on bonus (twitter.com)\n",
      "        137 points by inarrears 3 hours ago  | hide | 91 comments              \n",
      "      \n",
      "                \n",
      "      21.      Mapping the Brain at High Resolution (mit.edu)\n",
      "        50 points by ArtWomb 8 hours ago  | hide | 8 comments              \n",
      "      \n",
      "                \n",
      "      22.      Effects of MP3 Compression on Perceived Emotional Characteristics in Music (aes.org)\n",
      "        14 points by pbowyer 4 hours ago  | hide | 14 comments              \n",
      "      \n",
      "                \n",
      "      23.      Planning scientific equipment for Antarctic conditions (antarctica.gov.au)\n",
      "        29 points by owenversteeg 6 hours ago  | hide | 11 comments              \n",
      "      \n",
      "                \n",
      "      24.      Inside the C Standard Library (begriffs.com)\n",
      "        155 points by signa11 14 hours ago  | hide | 47 comments              \n",
      "      \n",
      "                \n",
      "      25.      RE:DOM – Tiny turboboosted JavaScript library for creating user interfaces (js.org)\n",
      "        97 points by edward 13 hours ago  | hide | 68 comments              \n",
      "      \n",
      "                \n",
      "      26.      Technology’s dark forest (techcrunch.com)\n",
      "        83 points by kaboro 13 hours ago  | hide | 46 comments              \n",
      "      \n",
      "                \n",
      "      27.      How To Edit A Low-Budget Blockbuster [video] (youtube.com)\n",
      "        57 points by skilled 11 hours ago  | hide | 4 comments              \n",
      "      \n",
      "                \n",
      "      28.      Lime scooters are causing some issues for Brisbane's vision impaired community (abc.net.au)\n",
      "        8 points by clouddrover 46 minutes ago  | hide | discuss              \n",
      "      \n",
      "                \n",
      "      29.      Show HN: ASCII TV – Stream ASCII movies in your terminal with curl (github.com)\n",
      "        81 points by mraison 11 hours ago  | hide | 21 comments              \n",
      "      \n",
      "                \n",
      "      30.      Altruistic Autonomy: Beating Congestion on Shared Roads (stanford.edu)\n",
      "        23 points by whoisnnamdi 8 hours ago  | hide | 10 comments              \n",
      "      \n",
      "            More\n",
      "  \n",
      "\n",
      "Guidelines\n",
      "        | FAQ\n",
      "        | Support\n",
      "        | API\n",
      "        | Security\n",
      "        | Lists\n",
      "        | Bookmarklet\n",
      "        | Legal\n",
      "        | Apply to YC\n",
      "        | ContactSearch:\n",
      "          \n",
      "            \n",
      "      \n",
      "  \n",
      "\n"
     ]
    }
   ],
   "source": [
    "from bs4 import BeautifulSoup\n",
    "\n",
    "# Remove HTML tags using Beautiful Soup library\n",
    "soup = BeautifulSoup(r.text, \"html5lib\")\n",
    "print(soup.get_text())"
   ]
  },
  {
   "cell_type": "code",
   "execution_count": 7,
   "metadata": {
    "scrolled": true
   },
   "outputs": [
    {
     "data": {
      "text/plain": [
       "<tr class=\"athing\" id=\"18956574\">\n",
       "      <td align=\"right\" class=\"title\" valign=\"top\"><span class=\"rank\">1.</span></td>      <td class=\"votelinks\" valign=\"top\"><center><a href=\"vote?id=18956574&amp;how=up&amp;goto=news\" id=\"up_18956574\"><div class=\"votearrow\" title=\"upvote\"></div></a></center></td><td class=\"title\"><a class=\"storylink\" href=\"https://github.com/numpy/numpy/blob/master/doc/release/1.16.0-notes.rst\">NumPy 1.16 released as the last version to support Python2</a><span class=\"sitebit comhead\"> (<a href=\"from?site=github.com\"><span class=\"sitestr\">github.com</span></a>)</span></td></tr>"
      ]
     },
     "execution_count": 7,
     "metadata": {},
     "output_type": "execute_result"
    }
   ],
   "source": [
    "# Find all articles\n",
    "summaries = soup.find_all(\"tr\", class_=\"athing\")\n",
    "summaries[0]"
   ]
  },
  {
   "cell_type": "code",
   "execution_count": 8,
   "metadata": {},
   "outputs": [
    {
     "data": {
      "text/plain": [
       "'NumPy 1.16 released as the last version to support Python2'"
      ]
     },
     "execution_count": 8,
     "metadata": {},
     "output_type": "execute_result"
    }
   ],
   "source": [
    "# Extract title\n",
    "summaries[0].find(\"a\", class_=\"storylink\").get_text().strip()"
   ]
  },
  {
   "cell_type": "code",
   "execution_count": 9,
   "metadata": {},
   "outputs": [
    {
     "name": "stdout",
     "output_type": "stream",
     "text": [
      "30 Article summaries found. Sample:\n",
      "NumPy 1.16 released as the last version to support Python2\n"
     ]
    }
   ],
   "source": [
    "# Find all articles, extract titles\n",
    "articles = []\n",
    "summaries = soup.find_all(\"tr\", class_=\"athing\")\n",
    "for summary in summaries:\n",
    "    title = summary.find(\"a\", class_=\"storylink\").get_text().strip()\n",
    "    articles.append((title))\n",
    "\n",
    "print(len(articles), \"Article summaries found. Sample:\")\n",
    "print(articles[0])"
   ]
  },
  {
   "cell_type": "markdown",
   "metadata": {
    "collapsed": true
   },
   "source": [
    "## Normalization"
   ]
  },
  {
   "cell_type": "markdown",
   "metadata": {},
   "source": [
    "### Case Normalization"
   ]
  },
  {
   "cell_type": "code",
   "execution_count": 10,
   "metadata": {},
   "outputs": [
    {
     "name": "stdout",
     "output_type": "stream",
     "text": [
      "The first time you see The Second Renaissance it may look boring. Look at it at least twice and definitely watch part 2. It will change your view of the matrix. Are the human people the ones who started the war ? Is AI a bad thing ?\n"
     ]
    }
   ],
   "source": [
    "# Sample text\n",
    "text = \"The first time you see The Second Renaissance it may look boring. Look at it at least twice and definitely watch part 2. It will change your view of the matrix. Are the human people the ones who started the war ? Is AI a bad thing ?\"\n",
    "print(text)"
   ]
  },
  {
   "cell_type": "code",
   "execution_count": 11,
   "metadata": {},
   "outputs": [
    {
     "name": "stdout",
     "output_type": "stream",
     "text": [
      "the first time you see the second renaissance it may look boring. look at it at least twice and definitely watch part 2. it will change your view of the matrix. are the human people the ones who started the war ? is ai a bad thing ?\n"
     ]
    }
   ],
   "source": [
    "# Convert to lowercase\n",
    "text = text.lower() \n",
    "print(text)"
   ]
  },
  {
   "cell_type": "markdown",
   "metadata": {},
   "source": [
    "### Punctuation Removal"
   ]
  },
  {
   "cell_type": "code",
   "execution_count": 12,
   "metadata": {},
   "outputs": [
    {
     "name": "stdout",
     "output_type": "stream",
     "text": [
      "the first time you see the second renaissance it may look boring  look at it at least twice and definitely watch part 2  it will change your view of the matrix  are the human people the ones who started the war   is ai a bad thing  \n"
     ]
    }
   ],
   "source": [
    "import re\n",
    "\n",
    "# Remove punctuation characters\n",
    "text = re.sub(r\"[^a-zA-Z0-9]\", \" \", text) \n",
    "print(text)"
   ]
  },
  {
   "cell_type": "markdown",
   "metadata": {},
   "source": [
    "## Tokenization"
   ]
  },
  {
   "cell_type": "code",
   "execution_count": 13,
   "metadata": {},
   "outputs": [
    {
     "name": "stdout",
     "output_type": "stream",
     "text": [
      "['the', 'first', 'time', 'you', 'see', 'the', 'second', 'renaissance', 'it', 'may', 'look', 'boring', 'look', 'at', 'it', 'at', 'least', 'twice', 'and', 'definitely', 'watch', 'part', '2', 'it', 'will', 'change', 'your', 'view', 'of', 'the', 'matrix', 'are', 'the', 'human', 'people', 'the', 'ones', 'who', 'started', 'the', 'war', 'is', 'ai', 'a', 'bad', 'thing']\n"
     ]
    }
   ],
   "source": [
    "# Split text into tokens (words)\n",
    "words = text.split()\n",
    "print(words)"
   ]
  },
  {
   "cell_type": "markdown",
   "metadata": {},
   "source": [
    "### NLTK: Natural Language ToolKit"
   ]
  },
  {
   "cell_type": "code",
   "execution_count": 14,
   "metadata": {},
   "outputs": [],
   "source": [
    "import os\n",
    "import nltk\n",
    "nltk.data.path.append(os.path.join(os.getcwd(), \"nltk_data\"))"
   ]
  },
  {
   "cell_type": "code",
   "execution_count": 15,
   "metadata": {},
   "outputs": [
    {
     "name": "stdout",
     "output_type": "stream",
     "text": [
      "Dr. Smith graduated from the University of Washington. He later started an analytics firm called Lux, which catered to enterprise customers.\n"
     ]
    }
   ],
   "source": [
    "# Another sample text\n",
    "text = \"Dr. Smith graduated from the University of Washington. He later started an analytics firm called Lux, which catered to enterprise customers.\"\n",
    "print(text)"
   ]
  },
  {
   "cell_type": "code",
   "execution_count": 16,
   "metadata": {},
   "outputs": [
    {
     "name": "stdout",
     "output_type": "stream",
     "text": [
      "['Dr.', 'Smith', 'graduated', 'from', 'the', 'University', 'of', 'Washington', '.', 'He', 'later', 'started', 'an', 'analytics', 'firm', 'called', 'Lux', ',', 'which', 'catered', 'to', 'enterprise', 'customers', '.']\n"
     ]
    }
   ],
   "source": [
    "from nltk.tokenize import word_tokenize\n",
    "\n",
    "# Split text into words using NLTK\n",
    "words = word_tokenize(text)\n",
    "print(words)"
   ]
  },
  {
   "cell_type": "code",
   "execution_count": 17,
   "metadata": {},
   "outputs": [
    {
     "name": "stdout",
     "output_type": "stream",
     "text": [
      "['Dr. Smith graduated from the University of Washington.', 'He later started an analytics firm called Lux, which catered to enterprise customers.']\n"
     ]
    }
   ],
   "source": [
    "from nltk.tokenize import sent_tokenize\n",
    "\n",
    "# Split text into sentences\n",
    "sentences = sent_tokenize(text)\n",
    "print(sentences)"
   ]
  },
  {
   "cell_type": "code",
   "execution_count": 18,
   "metadata": {},
   "outputs": [
    {
     "name": "stdout",
     "output_type": "stream",
     "text": [
      "['i', 'me', 'my', 'myself', 'we', 'our', 'ours', 'ourselves', 'you', \"you're\", \"you've\", \"you'll\", \"you'd\", 'your', 'yours', 'yourself', 'yourselves', 'he', 'him', 'his', 'himself', 'she', \"she's\", 'her', 'hers', 'herself', 'it', \"it's\", 'its', 'itself', 'they', 'them', 'their', 'theirs', 'themselves', 'what', 'which', 'who', 'whom', 'this', 'that', \"that'll\", 'these', 'those', 'am', 'is', 'are', 'was', 'were', 'be', 'been', 'being', 'have', 'has', 'had', 'having', 'do', 'does', 'did', 'doing', 'a', 'an', 'the', 'and', 'but', 'if', 'or', 'because', 'as', 'until', 'while', 'of', 'at', 'by', 'for', 'with', 'about', 'against', 'between', 'into', 'through', 'during', 'before', 'after', 'above', 'below', 'to', 'from', 'up', 'down', 'in', 'out', 'on', 'off', 'over', 'under', 'again', 'further', 'then', 'once', 'here', 'there', 'when', 'where', 'why', 'how', 'all', 'any', 'both', 'each', 'few', 'more', 'most', 'other', 'some', 'such', 'no', 'nor', 'not', 'only', 'own', 'same', 'so', 'than', 'too', 'very', 's', 't', 'can', 'will', 'just', 'don', \"don't\", 'should', \"should've\", 'now', 'd', 'll', 'm', 'o', 're', 've', 'y', 'ain', 'aren', \"aren't\", 'couldn', \"couldn't\", 'didn', \"didn't\", 'doesn', \"doesn't\", 'hadn', \"hadn't\", 'hasn', \"hasn't\", 'haven', \"haven't\", 'isn', \"isn't\", 'ma', 'mightn', \"mightn't\", 'mustn', \"mustn't\", 'needn', \"needn't\", 'shan', \"shan't\", 'shouldn', \"shouldn't\", 'wasn', \"wasn't\", 'weren', \"weren't\", 'won', \"won't\", 'wouldn', \"wouldn't\"]\n"
     ]
    }
   ],
   "source": [
    "# List stop words\n",
    "from nltk.corpus import stopwords\n",
    "print(stopwords.words(\"english\"))"
   ]
  },
  {
   "cell_type": "code",
   "execution_count": 19,
   "metadata": {},
   "outputs": [
    {
     "name": "stdout",
     "output_type": "stream",
     "text": [
      "['the', 'first', 'time', 'you', 'see', 'the', 'second', 'renaissance', 'it', 'may', 'look', 'boring', 'look', 'at', 'it', 'at', 'least', 'twice', 'and', 'definitely', 'watch', 'part', '2', 'it', 'will', 'change', 'your', 'view', 'of', 'the', 'matrix', 'are', 'the', 'human', 'people', 'the', 'ones', 'who', 'started', 'the', 'war', 'is', 'ai', 'a', 'bad', 'thing']\n"
     ]
    }
   ],
   "source": [
    "# Reset text\n",
    "text = \"The first time you see The Second Renaissance it may look boring. Look at it at least twice and definitely watch part 2. It will change your view of the matrix. Are the human people the ones who started the war ? Is AI a bad thing ?\"\n",
    "\n",
    "# Normalize it\n",
    "text = re.sub(r\"[^a-zA-Z0-9]\", \" \", text.lower())\n",
    "\n",
    "# Tokenize it\n",
    "words = text.split()\n",
    "print(words)"
   ]
  },
  {
   "cell_type": "code",
   "execution_count": 20,
   "metadata": {},
   "outputs": [
    {
     "name": "stdout",
     "output_type": "stream",
     "text": [
      "['first', 'time', 'see', 'second', 'renaissance', 'may', 'look', 'boring', 'look', 'least', 'twice', 'definitely', 'watch', 'part', '2', 'change', 'view', 'matrix', 'human', 'people', 'ones', 'started', 'war', 'ai', 'bad', 'thing']\n"
     ]
    }
   ],
   "source": [
    "# Remove stop words\n",
    "words = [w for w in words if w not in stopwords.words(\"english\")]\n",
    "print(words)"
   ]
  },
  {
   "cell_type": "markdown",
   "metadata": {},
   "source": [
    "### Sentence Parsing"
   ]
  },
  {
   "cell_type": "code",
   "execution_count": 21,
   "metadata": {},
   "outputs": [
    {
     "name": "stdout",
     "output_type": "stream",
     "text": [
      "(S\n",
      "  (NP I)\n",
      "  (VP\n",
      "    (VP (V shot) (NP (Det an) (N elephant)))\n",
      "    (PP (P in) (NP (Det my) (N pajamas)))))\n",
      "(S\n",
      "  (NP I)\n",
      "  (VP\n",
      "    (V shot)\n",
      "    (NP (Det an) (N elephant) (PP (P in) (NP (Det my) (N pajamas))))))\n"
     ]
    }
   ],
   "source": [
    "import nltk\n",
    "\n",
    "# Define a custom grammar\n",
    "my_grammar = nltk.CFG.fromstring(\"\"\"\n",
    "S -> NP VP\n",
    "PP -> P NP\n",
    "NP -> Det N | Det N PP | 'I'\n",
    "VP -> V NP | VP PP\n",
    "Det -> 'an' | 'my'\n",
    "N -> 'elephant' | 'pajamas'\n",
    "V -> 'shot'\n",
    "P -> 'in'\n",
    "\"\"\")\n",
    "parser = nltk.ChartParser(my_grammar)\n",
    "\n",
    "# Parse a sentence\n",
    "sentence = word_tokenize(\"I shot an elephant in my pajamas\")\n",
    "for tree in parser.parse(sentence):\n",
    "    print(tree)"
   ]
  },
  {
   "cell_type": "markdown",
   "metadata": {},
   "source": [
    "## Stemming & Lemmatization\n",
    "\n",
    "### Stemming"
   ]
  },
  {
   "cell_type": "code",
   "execution_count": 22,
   "metadata": {},
   "outputs": [
    {
     "name": "stdout",
     "output_type": "stream",
     "text": [
      "['first', 'time', 'see', 'second', 'renaiss', 'may', 'look', 'bore', 'look', 'least', 'twice', 'definit', 'watch', 'part', '2', 'chang', 'view', 'matrix', 'human', 'peopl', 'one', 'start', 'war', 'ai', 'bad', 'thing']\n"
     ]
    }
   ],
   "source": [
    "from nltk.stem.porter import PorterStemmer\n",
    "\n",
    "# Reduce words to their stems\n",
    "stemmed = [PorterStemmer().stem(w) for w in words]\n",
    "print(stemmed)"
   ]
  },
  {
   "cell_type": "markdown",
   "metadata": {},
   "source": [
    "### Lemmatization"
   ]
  },
  {
   "cell_type": "code",
   "execution_count": 23,
   "metadata": {},
   "outputs": [
    {
     "name": "stdout",
     "output_type": "stream",
     "text": [
      "['first', 'time', 'see', 'second', 'renaissance', 'may', 'look', 'boring', 'look', 'least', 'twice', 'definitely', 'watch', 'part', '2', 'change', 'view', 'matrix', 'human', 'people', 'one', 'started', 'war', 'ai', 'bad', 'thing']\n"
     ]
    }
   ],
   "source": [
    "from nltk.stem.wordnet import WordNetLemmatizer\n",
    "\n",
    "# Reduce words to their root form\n",
    "lemmed = [WordNetLemmatizer().lemmatize(w) for w in words]\n",
    "print(lemmed)"
   ]
  },
  {
   "cell_type": "code",
   "execution_count": 24,
   "metadata": {},
   "outputs": [
    {
     "name": "stdout",
     "output_type": "stream",
     "text": [
      "['first', 'time', 'see', 'second', 'renaissance', 'may', 'look', 'bore', 'look', 'least', 'twice', 'definitely', 'watch', 'part', '2', 'change', 'view', 'matrix', 'human', 'people', 'one', 'start', 'war', 'ai', 'bad', 'thing']\n"
     ]
    }
   ],
   "source": [
    "# Lemmatize verbs by specifying pos\n",
    "lemmed = [WordNetLemmatizer().lemmatize(w, pos='v') for w in lemmed]\n",
    "print(lemmed)"
   ]
  },
  {
   "cell_type": "code",
   "execution_count": null,
   "metadata": {},
   "outputs": [],
   "source": []
  }
 ],
 "metadata": {
  "kernelspec": {
   "display_name": "Python 3",
   "language": "python",
   "name": "python3"
  },
  "language_info": {
   "codemirror_mode": {
    "name": "ipython",
    "version": 3
   },
   "file_extension": ".py",
   "mimetype": "text/x-python",
   "name": "python",
   "nbconvert_exporter": "python",
   "pygments_lexer": "ipython3",
   "version": "3.6.5"
  }
 },
 "nbformat": 4,
 "nbformat_minor": 2
}
