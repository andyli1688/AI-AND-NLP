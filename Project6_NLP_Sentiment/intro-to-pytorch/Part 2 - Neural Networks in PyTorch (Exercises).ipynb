{
 "cells": [
  {
   "cell_type": "markdown",
   "metadata": {},
   "source": [
    "# Neural networks with PyTorch\n",
    "\n",
    "Deep learning networks tend to be massive with dozens or hundreds of layers, that's where the term \"deep\" comes from. You can build one of these deep networks using only weight matrices as we did in the previous notebook, but in general it's very cumbersome and difficult to implement. PyTorch has a nice module `nn` that provides a nice way to efficiently build large neural networks."
   ]
  },
  {
   "cell_type": "code",
   "execution_count": 25,
   "metadata": {},
   "outputs": [],
   "source": [
    "# Import necessary packages\n",
    "\n",
    "%matplotlib inline\n",
    "%config InlineBackend.figure_format = 'retina'\n",
    "\n",
    "import numpy as np\n",
    "import torch\n",
    "\n",
    "import helper\n",
    "\n",
    "import matplotlib.pyplot as plt"
   ]
  },
  {
   "cell_type": "markdown",
   "metadata": {},
   "source": [
    "\n",
    "Now we're going to build a larger network that can solve a (formerly) difficult problem, identifying text in an image. Here we'll use the MNIST dataset which consists of greyscale handwritten digits. Each image is 28x28 pixels, you can see a sample below\n",
    "\n",
    "<img src='assets/mnist.png'>\n",
    "\n",
    "Our goal is to build a neural network that can take one of these images and predict the digit in the image.\n",
    "\n",
    "First up, we need to get our dataset. This is provided through the `torchvision` package. The code below will download the MNIST dataset, then create training and test datasets for us. Don't worry too much about the details here, you'll learn more about this later."
   ]
  },
  {
   "cell_type": "code",
   "execution_count": 26,
   "metadata": {},
   "outputs": [],
   "source": [
    "### Run this cell\n",
    "\n",
    "from torchvision import datasets, transforms\n",
    "\n",
    "# Define a transform to normalize the data\n",
    "transform = transforms.Compose([transforms.ToTensor(),\n",
    "                              transforms.Normalize((0.5,), (0.5,)),\n",
    "                              ])\n",
    "\n",
    "# Download and load the training data\n",
    "trainset = datasets.MNIST('~/.pytorch/MNIST_data/', download=True, train=True, transform=transform)\n",
    "trainloader = torch.utils.data.DataLoader(trainset, batch_size=64, shuffle=True)"
   ]
  },
  {
   "cell_type": "markdown",
   "metadata": {},
   "source": [
    "We have the training data loaded into `trainloader` and we make that an iterator with `iter(trainloader)`. Later, we'll use this to loop through the dataset for training, like\n",
    "\n",
    "```python\n",
    "for image, label in trainloader:\n",
    "    ## do things with images and labels\n",
    "```\n",
    "\n",
    "You'll notice I created the `trainloader` with a batch size of 64, and `shuffle=True`. The batch size is the number of images we get in one iteration from the data loader and pass through our network, often called a *batch*. And `shuffle=True` tells it to shuffle the dataset every time we start going through the data loader again. But here I'm just grabbing the first batch so we can check out the data. We can see below that `images` is just a tensor with size `(64, 1, 28, 28)`. So, 64 images per batch, 1 color channel, and 28x28 images."
   ]
  },
  {
   "cell_type": "code",
   "execution_count": 27,
   "metadata": {},
   "outputs": [
    {
     "name": "stdout",
     "output_type": "stream",
     "text": [
      "<class 'torch.Tensor'>\n",
      "torch.Size([64, 1, 28, 28])\n",
      "torch.Size([64])\n"
     ]
    }
   ],
   "source": [
    "dataiter = iter(trainloader)\n",
    "images, labels = dataiter.next()\n",
    "print(type(images))\n",
    "print(images.shape)\n",
    "print(labels.shape)"
   ]
  },
  {
   "cell_type": "markdown",
   "metadata": {},
   "source": [
    "This is what one of the images looks like. "
   ]
  },
  {
   "cell_type": "code",
   "execution_count": 28,
   "metadata": {},
   "outputs": [
    {
     "data": {
      "image/png": "[encoded data removed]",
      "text/plain": [
       "<Figure size 432x288 with 1 Axes>"
      ]
     },
     "metadata": {
      "image/png": {
       "height": 250,
       "width": 253
      },
      "needs_background": "light"
     },
     "output_type": "display_data"
    }
   ],
   "source": [
    "plt.imshow(images[1].numpy().squeeze(), cmap='Greys_r');"
   ]
  },
  {
   "cell_type": "markdown",
   "metadata": {},
   "source": [
    "First, let's try to build a simple network for this dataset using weight matrices and matrix multiplications. Then, we'll see how to do it using PyTorch's `nn` module which provides a much more convenient and powerful method for defining network architectures.\n",
    "\n",
    "The networks you've seen so far are called *fully-connected* or *dense* networks. Each unit in one layer is connected to each unit in the next layer. In fully-connected networks, the input to each layer must be a one-dimensional vector (which can be stacked into a 2D tensor as a batch of multiple examples). However, our images are 28x28 2D tensors, so we need to convert them into 1D vectors. Thinking about sizes, we need to convert the batch of images with shape `(64, 1, 28, 28)` to a have a shape of `(64, 784)`, 784 is 28 times 28. This is typically called *flattening*, we flattened the 2D images into 1D vectors.\n",
    "\n",
    "Previously you built a network with one output unit. Here we need 10 output units, one for each digit. We want our network to predict the digit shown in an image, so what we'll do is calculate probabilities that the image is of any one digit or class. This ends up being a discrete probability distribution over the classes (digits) that tells us the most likely class for the image. That means we need 10 output units for the 10 classes (digits). We'll see how to convert the network output into a probability distribution next.\n",
    "\n",
    "> **Exercise:** Flatten the batch of images `images`. Then build a multi-layer network with 784 input units, 256 hidden units, and 10 output units using random tensors for the weights and biases. For now, use a sigmoid activation for the hidden layer. Leave the output layer without an activation, we'll add one that gives us a probability distribution next."
   ]
  },
  {
   "cell_type": "code",
   "execution_count": 63,
   "metadata": {},
   "outputs": [],
   "source": [
    "## Your solution\n",
    "def sigmoid(x):\n",
    "    return 1 / (1 + torch.exp(-x))\n",
    "\n",
    "inputs = images.view(images.shape[0],-1)\n",
    "n_input = flat_images.shape[1]\n",
    "n_hidden = 256\n",
    "n_output = 10\n",
    "weights_1 = torch.rand((n_input, n_hidden))\n",
    "weights_2 = torch.rand((n_hidden, n_output))\n",
    "bias_1 = torch.rand((  n_hidden))\n",
    "bias_2 = torch.rand((  n_output))\n",
    "\n",
    "h_1 = sigmoid(torch.mm(inputs, weights_1) + bias_1)\n",
    "out = torch.mm(h_1, weights_2) + bias_2\n",
    "\n",
    "# output of your network, should have shape (64,10)"
   ]
  },
  {
   "cell_type": "code",
   "execution_count": 65,
   "metadata": {},
   "outputs": [
    {
     "data": {
      "text/plain": [
       "tensor([[0.5375, 0.6016, 0.4971, 0.3077, 0.0451, 0.2084, 0.3722, 0.8641, 0.3661,\n",
       "         0.8405],\n",
       "        [0.5375, 0.6016, 0.4971, 0.3077, 0.0451, 0.2084, 0.3722, 0.8641, 0.3661,\n",
       "         0.8405],\n",
       "        [0.5375, 0.6016, 0.4971, 0.3077, 0.0451, 0.2084, 0.3722, 0.8641, 0.3661,\n",
       "         0.8405],\n",
       "        [0.5375, 0.6016, 0.4971, 0.3077, 0.0451, 0.2084, 0.3722, 0.8641, 0.3661,\n",
       "         0.8405],\n",
       "        [0.5375, 0.6016, 0.4971, 0.3077, 0.0451, 0.2084, 0.3722, 0.8641, 0.3661,\n",
       "         0.8405],\n",
       "        [0.5375, 0.6016, 0.4971, 0.3077, 0.0451, 0.2084, 0.3722, 0.8641, 0.3661,\n",
       "         0.8405],\n",
       "        [0.5375, 0.6016, 0.4971, 0.3077, 0.0451, 0.2084, 0.3722, 0.8641, 0.3661,\n",
       "         0.8405],\n",
       "        [0.5375, 0.6016, 0.4971, 0.3077, 0.0451, 0.2084, 0.3722, 0.8641, 0.3661,\n",
       "         0.8405],\n",
       "        [0.5375, 0.6016, 0.4971, 0.3077, 0.0451, 0.2084, 0.3722, 0.8641, 0.3661,\n",
       "         0.8405],\n",
       "        [0.5375, 0.6016, 0.4971, 0.3077, 0.0451, 0.2084, 0.3722, 0.8641, 0.3661,\n",
       "         0.8405],\n",
       "        [0.5375, 0.6016, 0.4971, 0.3077, 0.0451, 0.2084, 0.3722, 0.8641, 0.3661,\n",
       "         0.8405],\n",
       "        [0.5375, 0.6016, 0.4971, 0.3077, 0.0451, 0.2084, 0.3722, 0.8641, 0.3661,\n",
       "         0.8405],\n",
       "        [0.5375, 0.6016, 0.4971, 0.3077, 0.0451, 0.2084, 0.3722, 0.8641, 0.3661,\n",
       "         0.8405],\n",
       "        [0.5375, 0.6016, 0.4971, 0.3077, 0.0451, 0.2084, 0.3722, 0.8641, 0.3661,\n",
       "         0.8405],\n",
       "        [0.5375, 0.6016, 0.4971, 0.3077, 0.0451, 0.2084, 0.3722, 0.8641, 0.3661,\n",
       "         0.8405],\n",
       "        [0.5375, 0.6016, 0.4971, 0.3077, 0.0451, 0.2084, 0.3722, 0.8641, 0.3661,\n",
       "         0.8405],\n",
       "        [0.5375, 0.6016, 0.4971, 0.3077, 0.0451, 0.2084, 0.3722, 0.8641, 0.3661,\n",
       "         0.8405],\n",
       "        [0.5375, 0.6016, 0.4971, 0.3077, 0.0451, 0.2084, 0.3722, 0.8641, 0.3661,\n",
       "         0.8405],\n",
       "        [0.5375, 0.6016, 0.4971, 0.3077, 0.0451, 0.2084, 0.3722, 0.8641, 0.3661,\n",
       "         0.8405],\n",
       "        [0.5375, 0.6016, 0.4971, 0.3077, 0.0451, 0.2084, 0.3722, 0.8641, 0.3661,\n",
       "         0.8405],\n",
       "        [0.5375, 0.6016, 0.4971, 0.3077, 0.0451, 0.2084, 0.3722, 0.8641, 0.3661,\n",
       "         0.8405],\n",
       "        [0.5375, 0.6016, 0.4971, 0.3077, 0.0451, 0.2084, 0.3722, 0.8641, 0.3661,\n",
       "         0.8405],\n",
       "        [0.5375, 0.6016, 0.4971, 0.3077, 0.0451, 0.2084, 0.3722, 0.8641, 0.3661,\n",
       "         0.8405],\n",
       "        [0.5375, 0.6016, 0.4971, 0.3077, 0.0451, 0.2084, 0.3722, 0.8641, 0.3661,\n",
       "         0.8405],\n",
       "        [0.5375, 0.6016, 0.4971, 0.3077, 0.0451, 0.2084, 0.3722, 0.8641, 0.3661,\n",
       "         0.8405],\n",
       "        [0.5375, 0.6016, 0.4971, 0.3077, 0.0451, 0.2084, 0.3722, 0.8641, 0.3661,\n",
       "         0.8405],\n",
       "        [0.5375, 0.6016, 0.4971, 0.3077, 0.0451, 0.2084, 0.3722, 0.8641, 0.3661,\n",
       "         0.8405],\n",
       "        [0.5375, 0.6016, 0.4971, 0.3077, 0.0451, 0.2084, 0.3722, 0.8641, 0.3661,\n",
       "         0.8405],\n",
       "        [0.5375, 0.6016, 0.4971, 0.3077, 0.0451, 0.2084, 0.3722, 0.8641, 0.3661,\n",
       "         0.8405],\n",
       "        [0.5375, 0.6016, 0.4971, 0.3077, 0.0451, 0.2084, 0.3722, 0.8641, 0.3661,\n",
       "         0.8405],\n",
       "        [0.5375, 0.6016, 0.4971, 0.3077, 0.0451, 0.2084, 0.3722, 0.8641, 0.3661,\n",
       "         0.8405],\n",
       "        [0.5375, 0.6016, 0.4971, 0.3077, 0.0451, 0.2084, 0.3722, 0.8641, 0.3661,\n",
       "         0.8405],\n",
       "        [0.5375, 0.6016, 0.4971, 0.3077, 0.0451, 0.2084, 0.3722, 0.8641, 0.3661,\n",
       "         0.8405],\n",
       "        [0.5375, 0.6016, 0.4971, 0.3077, 0.0451, 0.2084, 0.3722, 0.8641, 0.3661,\n",
       "         0.8405],\n",
       "        [0.5375, 0.6016, 0.4971, 0.3077, 0.0451, 0.2084, 0.3722, 0.8641, 0.3661,\n",
       "         0.8405],\n",
       "        [0.5375, 0.6016, 0.4971, 0.3077, 0.0451, 0.2084, 0.3722, 0.8641, 0.3661,\n",
       "         0.8405],\n",
       "        [0.5375, 0.6016, 0.4971, 0.3077, 0.0451, 0.2084, 0.3722, 0.8641, 0.3661,\n",
       "         0.8405],\n",
       "        [0.5375, 0.6016, 0.4971, 0.3077, 0.0451, 0.2084, 0.3722, 0.8641, 0.3661,\n",
       "         0.8405],\n",
       "        [0.5375, 0.6016, 0.4971, 0.3077, 0.0451, 0.2084, 0.3722, 0.8641, 0.3661,\n",
       "         0.8405],\n",
       "        [0.5375, 0.6016, 0.4971, 0.3077, 0.0451, 0.2084, 0.3722, 0.8641, 0.3661,\n",
       "         0.8405],\n",
       "        [0.5375, 0.6016, 0.4971, 0.3077, 0.0451, 0.2084, 0.3722, 0.8641, 0.3661,\n",
       "         0.8405],\n",
       "        [0.5375, 0.6016, 0.4971, 0.3077, 0.0451, 0.2084, 0.3722, 0.8641, 0.3661,\n",
       "         0.8405],\n",
       "        [0.5375, 0.6016, 0.4971, 0.3077, 0.0451, 0.2084, 0.3722, 0.8641, 0.3661,\n",
       "         0.8405],\n",
       "        [0.5375, 0.6016, 0.4971, 0.3077, 0.0451, 0.2084, 0.3722, 0.8641, 0.3661,\n",
       "         0.8405],\n",
       "        [0.5375, 0.6016, 0.4971, 0.3077, 0.0451, 0.2084, 0.3722, 0.8641, 0.3661,\n",
       "         0.8405],\n",
       "        [0.5375, 0.6016, 0.4971, 0.3077, 0.0451, 0.2084, 0.3722, 0.8641, 0.3661,\n",
       "         0.8405],\n",
       "        [0.5375, 0.6016, 0.4971, 0.3077, 0.0451, 0.2084, 0.3722, 0.8641, 0.3661,\n",
       "         0.8405],\n",
       "        [0.5375, 0.6016, 0.4971, 0.3077, 0.0451, 0.2084, 0.3722, 0.8641, 0.3661,\n",
       "         0.8405],\n",
       "        [0.5375, 0.6016, 0.4971, 0.3077, 0.0451, 0.2084, 0.3722, 0.8641, 0.3661,\n",
       "         0.8405],\n",
       "        [0.5375, 0.6016, 0.4971, 0.3077, 0.0451, 0.2084, 0.3722, 0.8641, 0.3661,\n",
       "         0.8405],\n",
       "        [0.5375, 0.6016, 0.4971, 0.3077, 0.0451, 0.2084, 0.3722, 0.8641, 0.3661,\n",
       "         0.8405],\n",
       "        [0.5375, 0.6016, 0.4971, 0.3077, 0.0451, 0.2084, 0.3722, 0.8641, 0.3661,\n",
       "         0.8405],\n",
       "        [0.5375, 0.6016, 0.4971, 0.3077, 0.0451, 0.2084, 0.3722, 0.8641, 0.3661,\n",
       "         0.8405],\n",
       "        [0.5375, 0.6016, 0.4971, 0.3077, 0.0451, 0.2084, 0.3722, 0.8641, 0.3661,\n",
       "         0.8405],\n",
       "        [0.5375, 0.6016, 0.4971, 0.3077, 0.0451, 0.2084, 0.3722, 0.8641, 0.3661,\n",
       "         0.8405],\n",
       "        [0.5375, 0.6016, 0.4971, 0.3077, 0.0451, 0.2084, 0.3722, 0.8641, 0.3661,\n",
       "         0.8405],\n",
       "        [0.5375, 0.6016, 0.4971, 0.3077, 0.0451, 0.2084, 0.3722, 0.8641, 0.3661,\n",
       "         0.8405],\n",
       "        [0.5375, 0.6016, 0.4971, 0.3077, 0.0451, 0.2084, 0.3722, 0.8641, 0.3661,\n",
       "         0.8405],\n",
       "        [0.5375, 0.6016, 0.4971, 0.3077, 0.0451, 0.2084, 0.3722, 0.8641, 0.3661,\n",
       "         0.8405],\n",
       "        [0.5375, 0.6016, 0.4971, 0.3077, 0.0451, 0.2084, 0.3722, 0.8641, 0.3661,\n",
       "         0.8405],\n",
       "        [0.5375, 0.6016, 0.4971, 0.3077, 0.0451, 0.2084, 0.3722, 0.8641, 0.3661,\n",
       "         0.8405],\n",
       "        [0.5375, 0.6016, 0.4971, 0.3077, 0.0451, 0.2084, 0.3722, 0.8641, 0.3661,\n",
       "         0.8405],\n",
       "        [0.5375, 0.6016, 0.4971, 0.3077, 0.0451, 0.2084, 0.3722, 0.8641, 0.3661,\n",
       "         0.8405],\n",
       "        [0.5375, 0.6016, 0.4971, 0.3077, 0.0451, 0.2084, 0.3722, 0.8641, 0.3661,\n",
       "         0.8405]])"
      ]
     },
     "execution_count": 65,
     "metadata": {},
     "output_type": "execute_result"
    }
   ],
   "source": [
    "out"
   ]
  },
  {
   "cell_type": "markdown",
   "metadata": {},
   "source": [
    "Now we have 10 outputs for our network. We want to pass in an image to our network and get out a probability distribution over the classes that tells us the likely class(es) the image belongs to. Something that looks like this:\n",
    "<img src='assets/image_distribution.png' width=500px>\n",
    "\n",
    "Here we see that the probability for each class is roughly the same. This is representing an untrained network, it hasn't seen any data yet so it just returns a uniform distribution with equal probabilities for each class.\n",
    "\n",
    "To calculate this probability distribution, we often use the [**softmax** function](https://en.wikipedia.org/wiki/Softmax_function). Mathematically this looks like\n",
    "\n",
    "$$\n",
    "\\Large \\sigma(x_i) = \\cfrac{e^{x_i}}{\\sum_k^K{e^{x_k}}}\n",
    "$$\n",
    "\n",
    "What this does is squish each input $x_i$ between 0 and 1 and normalizes the values to give you a proper probability distribution where the probabilites sum up to one.\n",
    "\n",
    "> **Exercise:** Implement a function `softmax` that performs the softmax calculation and returns probability distributions for each example in the batch. Note that you'll need to pay attention to the shapes when doing this. If you have a tensor `a` with shape `(64, 10)` and a tensor `b` with shape `(64,)`, doing `a/b` will give you an error because PyTorch will try to do the division across the columns (called broadcasting) but you'll get a size mismatch. The way to think about this is for each of the 64 examples, you only want to divide by one value, the sum in the denominator. So you need `b` to have a shape of `(64, 1)`. This way PyTorch will divide the 10 values in each row of `a` by the one value in each row of `b`. Pay attention to how you take the sum as well. You'll need to define the `dim` keyword in `torch.sum`. Setting `dim=0` takes the sum across the rows while `dim=1` takes the sum across the columns."
   ]
  },
  {
   "cell_type": "code",
   "execution_count": 66,
   "metadata": {},
   "outputs": [
    {
     "name": "stdout",
     "output_type": "stream",
     "text": [
      "torch.Size([64, 10])\n",
      "tensor([1., 1., 1., 1., 1., 1., 1., 1., 1., 1., 1., 1., 1., 1., 1., 1., 1., 1.,\n",
      "        1., 1., 1., 1., 1., 1., 1., 1., 1., 1., 1., 1., 1., 1., 1., 1., 1., 1.,\n",
      "        1., 1., 1., 1., 1., 1., 1., 1., 1., 1., 1., 1., 1., 1., 1., 1., 1., 1.,\n",
      "        1., 1., 1., 1., 1., 1., 1., 1., 1., 1.])\n"
     ]
    }
   ],
   "source": [
    "def softmax(x):\n",
    "    ## TODO: Implement the softmax function here\n",
    "    return torch.exp(x) / torch.sum(torch.exp(x), dim = 1).view(-1,1)\n",
    "# Here, out should be the output of the network in the previous excercise with shape (64,10)\n",
    "probabilities = softmax(out)\n",
    "\n",
    "# Does it have the right shape? Should be (64, 10)\n",
    "print(probabilities.shape)\n",
    "# Does it sum to 1?\n",
    "print(probabilities.sum(dim=1))"
   ]
  },
  {
   "cell_type": "code",
   "execution_count": 67,
   "metadata": {},
   "outputs": [
    {
     "data": {
      "text/plain": [
       "tensor([[1.7118, 1.8250, 1.6440, 1.3603, 1.0462, 1.2317, 1.4509, 2.3728, 1.4420,\n",
       "         2.3174],\n",
       "        [1.7118, 1.8250, 1.6440, 1.3603, 1.0462, 1.2317, 1.4509, 2.3728, 1.4420,\n",
       "         2.3174],\n",
       "        [1.7118, 1.8250, 1.6440, 1.3603, 1.0462, 1.2317, 1.4509, 2.3728, 1.4420,\n",
       "         2.3174],\n",
       "        [1.7118, 1.8250, 1.6440, 1.3603, 1.0462, 1.2317, 1.4509, 2.3728, 1.4420,\n",
       "         2.3174],\n",
       "        [1.7118, 1.8250, 1.6440, 1.3603, 1.0462, 1.2317, 1.4509, 2.3728, 1.4420,\n",
       "         2.3174],\n",
       "        [1.7118, 1.8250, 1.6440, 1.3603, 1.0462, 1.2317, 1.4509, 2.3728, 1.4420,\n",
       "         2.3174],\n",
       "        [1.7118, 1.8250, 1.6440, 1.3603, 1.0462, 1.2317, 1.4509, 2.3728, 1.4420,\n",
       "         2.3174],\n",
       "        [1.7118, 1.8250, 1.6440, 1.3603, 1.0462, 1.2317, 1.4509, 2.3728, 1.4420,\n",
       "         2.3174],\n",
       "        [1.7118, 1.8250, 1.6440, 1.3603, 1.0462, 1.2317, 1.4509, 2.3728, 1.4420,\n",
       "         2.3174],\n",
       "        [1.7118, 1.8250, 1.6440, 1.3603, 1.0462, 1.2317, 1.4509, 2.3728, 1.4420,\n",
       "         2.3174],\n",
       "        [1.7118, 1.8250, 1.6440, 1.3603, 1.0462, 1.2317, 1.4509, 2.3728, 1.4420,\n",
       "         2.3174],\n",
       "        [1.7118, 1.8250, 1.6440, 1.3603, 1.0462, 1.2317, 1.4509, 2.3728, 1.4420,\n",
       "         2.3174],\n",
       "        [1.7118, 1.8250, 1.6440, 1.3603, 1.0462, 1.2317, 1.4509, 2.3728, 1.4420,\n",
       "         2.3174],\n",
       "        [1.7118, 1.8250, 1.6440, 1.3603, 1.0462, 1.2317, 1.4509, 2.3728, 1.4420,\n",
       "         2.3174],\n",
       "        [1.7118, 1.8250, 1.6440, 1.3603, 1.0462, 1.2317, 1.4509, 2.3728, 1.4420,\n",
       "         2.3174],\n",
       "        [1.7118, 1.8250, 1.6440, 1.3603, 1.0462, 1.2317, 1.4509, 2.3728, 1.4420,\n",
       "         2.3174],\n",
       "        [1.7118, 1.8250, 1.6440, 1.3603, 1.0462, 1.2317, 1.4509, 2.3728, 1.4420,\n",
       "         2.3174],\n",
       "        [1.7118, 1.8250, 1.6440, 1.3603, 1.0462, 1.2317, 1.4509, 2.3728, 1.4420,\n",
       "         2.3174],\n",
       "        [1.7118, 1.8250, 1.6440, 1.3603, 1.0462, 1.2317, 1.4509, 2.3728, 1.4420,\n",
       "         2.3174],\n",
       "        [1.7118, 1.8250, 1.6440, 1.3603, 1.0462, 1.2317, 1.4509, 2.3728, 1.4420,\n",
       "         2.3174],\n",
       "        [1.7118, 1.8250, 1.6440, 1.3603, 1.0462, 1.2317, 1.4509, 2.3728, 1.4420,\n",
       "         2.3174],\n",
       "        [1.7118, 1.8250, 1.6440, 1.3603, 1.0462, 1.2317, 1.4509, 2.3728, 1.4420,\n",
       "         2.3174],\n",
       "        [1.7118, 1.8250, 1.6440, 1.3603, 1.0462, 1.2317, 1.4509, 2.3728, 1.4420,\n",
       "         2.3174],\n",
       "        [1.7118, 1.8250, 1.6440, 1.3603, 1.0462, 1.2317, 1.4509, 2.3728, 1.4420,\n",
       "         2.3174],\n",
       "        [1.7118, 1.8250, 1.6440, 1.3603, 1.0462, 1.2317, 1.4509, 2.3728, 1.4420,\n",
       "         2.3174],\n",
       "        [1.7118, 1.8250, 1.6440, 1.3603, 1.0462, 1.2317, 1.4509, 2.3728, 1.4420,\n",
       "         2.3174],\n",
       "        [1.7118, 1.8250, 1.6440, 1.3603, 1.0462, 1.2317, 1.4509, 2.3728, 1.4420,\n",
       "         2.3174],\n",
       "        [1.7118, 1.8250, 1.6440, 1.3603, 1.0462, 1.2317, 1.4509, 2.3728, 1.4420,\n",
       "         2.3174],\n",
       "        [1.7118, 1.8250, 1.6440, 1.3603, 1.0462, 1.2317, 1.4509, 2.3728, 1.4420,\n",
       "         2.3174],\n",
       "        [1.7118, 1.8250, 1.6440, 1.3603, 1.0462, 1.2317, 1.4509, 2.3728, 1.4420,\n",
       "         2.3174],\n",
       "        [1.7118, 1.8250, 1.6440, 1.3603, 1.0462, 1.2317, 1.4509, 2.3728, 1.4420,\n",
       "         2.3174],\n",
       "        [1.7118, 1.8250, 1.6440, 1.3603, 1.0462, 1.2317, 1.4509, 2.3728, 1.4420,\n",
       "         2.3174],\n",
       "        [1.7118, 1.8250, 1.6440, 1.3603, 1.0462, 1.2317, 1.4509, 2.3728, 1.4420,\n",
       "         2.3174],\n",
       "        [1.7118, 1.8250, 1.6440, 1.3603, 1.0462, 1.2317, 1.4509, 2.3728, 1.4420,\n",
       "         2.3174],\n",
       "        [1.7118, 1.8250, 1.6440, 1.3603, 1.0462, 1.2317, 1.4509, 2.3728, 1.4420,\n",
       "         2.3174],\n",
       "        [1.7118, 1.8250, 1.6440, 1.3603, 1.0462, 1.2317, 1.4509, 2.3728, 1.4420,\n",
       "         2.3174],\n",
       "        [1.7118, 1.8250, 1.6440, 1.3603, 1.0462, 1.2317, 1.4509, 2.3728, 1.4420,\n",
       "         2.3174],\n",
       "        [1.7118, 1.8250, 1.6440, 1.3603, 1.0462, 1.2317, 1.4509, 2.3728, 1.4420,\n",
       "         2.3174],\n",
       "        [1.7118, 1.8250, 1.6440, 1.3603, 1.0462, 1.2317, 1.4509, 2.3728, 1.4420,\n",
       "         2.3174],\n",
       "        [1.7118, 1.8250, 1.6440, 1.3603, 1.0462, 1.2317, 1.4509, 2.3728, 1.4420,\n",
       "         2.3174],\n",
       "        [1.7118, 1.8250, 1.6440, 1.3603, 1.0462, 1.2317, 1.4509, 2.3728, 1.4420,\n",
       "         2.3174],\n",
       "        [1.7118, 1.8250, 1.6440, 1.3603, 1.0462, 1.2317, 1.4509, 2.3728, 1.4420,\n",
       "         2.3174],\n",
       "        [1.7118, 1.8250, 1.6440, 1.3603, 1.0462, 1.2317, 1.4509, 2.3728, 1.4420,\n",
       "         2.3174],\n",
       "        [1.7118, 1.8250, 1.6440, 1.3603, 1.0462, 1.2317, 1.4509, 2.3728, 1.4420,\n",
       "         2.3174],\n",
       "        [1.7118, 1.8250, 1.6440, 1.3603, 1.0462, 1.2317, 1.4509, 2.3728, 1.4420,\n",
       "         2.3174],\n",
       "        [1.7118, 1.8250, 1.6440, 1.3603, 1.0462, 1.2317, 1.4509, 2.3728, 1.4420,\n",
       "         2.3174],\n",
       "        [1.7118, 1.8250, 1.6440, 1.3603, 1.0462, 1.2317, 1.4509, 2.3728, 1.4420,\n",
       "         2.3174],\n",
       "        [1.7118, 1.8250, 1.6440, 1.3603, 1.0462, 1.2317, 1.4509, 2.3728, 1.4420,\n",
       "         2.3174],\n",
       "        [1.7118, 1.8250, 1.6440, 1.3603, 1.0462, 1.2317, 1.4509, 2.3728, 1.4420,\n",
       "         2.3174],\n",
       "        [1.7118, 1.8250, 1.6440, 1.3603, 1.0462, 1.2317, 1.4509, 2.3728, 1.4420,\n",
       "         2.3174],\n",
       "        [1.7118, 1.8250, 1.6440, 1.3603, 1.0462, 1.2317, 1.4509, 2.3728, 1.4420,\n",
       "         2.3174],\n",
       "        [1.7118, 1.8250, 1.6440, 1.3603, 1.0462, 1.2317, 1.4509, 2.3728, 1.4420,\n",
       "         2.3174],\n",
       "        [1.7118, 1.8250, 1.6440, 1.3603, 1.0462, 1.2317, 1.4509, 2.3728, 1.4420,\n",
       "         2.3174],\n",
       "        [1.7118, 1.8250, 1.6440, 1.3603, 1.0462, 1.2317, 1.4509, 2.3728, 1.4420,\n",
       "         2.3174],\n",
       "        [1.7118, 1.8250, 1.6440, 1.3603, 1.0462, 1.2317, 1.4509, 2.3728, 1.4420,\n",
       "         2.3174],\n",
       "        [1.7118, 1.8250, 1.6440, 1.3603, 1.0462, 1.2317, 1.4509, 2.3728, 1.4420,\n",
       "         2.3174],\n",
       "        [1.7118, 1.8250, 1.6440, 1.3603, 1.0462, 1.2317, 1.4509, 2.3728, 1.4420,\n",
       "         2.3174],\n",
       "        [1.7118, 1.8250, 1.6440, 1.3603, 1.0462, 1.2317, 1.4509, 2.3728, 1.4420,\n",
       "         2.3174],\n",
       "        [1.7118, 1.8250, 1.6440, 1.3603, 1.0462, 1.2317, 1.4509, 2.3728, 1.4420,\n",
       "         2.3174],\n",
       "        [1.7118, 1.8250, 1.6440, 1.3603, 1.0462, 1.2317, 1.4509, 2.3728, 1.4420,\n",
       "         2.3174],\n",
       "        [1.7118, 1.8250, 1.6440, 1.3603, 1.0462, 1.2317, 1.4509, 2.3728, 1.4420,\n",
       "         2.3174],\n",
       "        [1.7118, 1.8250, 1.6440, 1.3603, 1.0462, 1.2317, 1.4509, 2.3728, 1.4420,\n",
       "         2.3174],\n",
       "        [1.7118, 1.8250, 1.6440, 1.3603, 1.0462, 1.2317, 1.4509, 2.3728, 1.4420,\n",
       "         2.3174],\n",
       "        [1.7118, 1.8250, 1.6440, 1.3603, 1.0462, 1.2317, 1.4509, 2.3728, 1.4420,\n",
       "         2.3174]])"
      ]
     },
     "execution_count": 67,
     "metadata": {},
     "output_type": "execute_result"
    }
   ],
   "source": [
    "torch.exp(out)"
   ]
  },
  {
   "cell_type": "markdown",
   "metadata": {},
   "source": [
    "## Building networks with PyTorch\n",
    "\n",
    "PyTorch provides a module `nn` that makes building networks much simpler. Here I'll show you how to build the same one as above with 784 inputs, 256 hidden units, 10 output units and a softmax output."
   ]
  },
  {
   "cell_type": "code",
   "execution_count": 68,
   "metadata": {},
   "outputs": [],
   "source": [
    "from torch import nn"
   ]
  },
  {
   "cell_type": "code",
   "execution_count": 69,
   "metadata": {},
   "outputs": [],
   "source": [
    "class Network(nn.Module):\n",
    "    def __init__(self):\n",
    "        super().__init__()\n",
    "        \n",
    "        # Inputs to hidden layer linear transformation\n",
    "        self.hidden = nn.Linear(784, 256)\n",
    "        # Output layer, 10 units - one for each digit\n",
    "        self.output = nn.Linear(256, 10)\n",
    "        \n",
    "        # Define sigmoid activation and softmax output \n",
    "        self.sigmoid = nn.Sigmoid()\n",
    "        self.softmax = nn.Softmax(dim=1)\n",
    "        \n",
    "    def forward(self, x):\n",
    "        # Pass the input tensor through each of our operations\n",
    "        x = self.hidden(x)\n",
    "        x = self.sigmoid(x)\n",
    "        x = self.output(x)\n",
    "        x = self.softmax(x)\n",
    "        \n",
    "        return x"
   ]
  },
  {
   "cell_type": "markdown",
   "metadata": {},
   "source": [
    "Let's go through this bit by bit.\n",
    "\n",
    "```python\n",
    "class Network(nn.Module):\n",
    "```\n",
    "\n",
    "Here we're inheriting from `nn.Module`. Combined with `super().__init__()` this creates a class that tracks the architecture and provides a lot of useful methods and attributes. It is mandatory to inherit from `nn.Module` when you're creating a class for your network. The name of the class itself can be anything.\n",
    "\n",
    "```python\n",
    "self.hidden = nn.Linear(784, 256)\n",
    "```\n",
    "\n",
    "This line creates a module for a linear transformation, $x\\mathbf{W} + b$, with 784 inputs and 256 outputs and assigns it to `self.hidden`. The module automatically creates the weight and bias tensors which we'll use in the `forward` method. You can access the weight and bias tensors once the network (`net`) is created with `net.hidden.weight` and `net.hidden.bias`.\n",
    "\n",
    "```python\n",
    "self.output = nn.Linear(256, 10)\n",
    "```\n",
    "\n",
    "Similarly, this creates another linear transformation with 256 inputs and 10 outputs.\n",
    "\n",
    "```python\n",
    "self.sigmoid = nn.Sigmoid()\n",
    "self.softmax = nn.Softmax(dim=1)\n",
    "```\n",
    "\n",
    "Here I defined operations for the sigmoid activation and softmax output. Setting `dim=1` in `nn.Softmax(dim=1)` calculates softmax across the columns.\n",
    "\n",
    "```python\n",
    "def forward(self, x):\n",
    "```\n",
    "\n",
    "PyTorch networks created with `nn.Module` must have a `forward` method defined. It takes in a tensor `x` and passes it through the operations you defined in the `__init__` method.\n",
    "\n",
    "```python\n",
    "x = self.hidden(x)\n",
    "x = self.sigmoid(x)\n",
    "x = self.output(x)\n",
    "x = self.softmax(x)\n",
    "```\n",
    "\n",
    "Here the input tensor `x` is passed through each operation and reassigned to `x`. We can see that the input tensor goes through the hidden layer, then a sigmoid function, then the output layer, and finally the softmax function. It doesn't matter what you name the variables here, as long as the inputs and outputs of the operations match the network architecture you want to build. The order in which you define things in the `__init__` method doesn't matter, but you'll need to sequence the operations correctly in the `forward` method.\n",
    "\n",
    "Now we can create a `Network` object."
   ]
  },
  {
   "cell_type": "code",
   "execution_count": 70,
   "metadata": {},
   "outputs": [
    {
     "data": {
      "text/plain": [
       "Network(\n",
       "  (hidden): Linear(in_features=784, out_features=256, bias=True)\n",
       "  (output): Linear(in_features=256, out_features=10, bias=True)\n",
       "  (sigmoid): Sigmoid()\n",
       "  (softmax): Softmax()\n",
       ")"
      ]
     },
     "execution_count": 70,
     "metadata": {},
     "output_type": "execute_result"
    }
   ],
   "source": [
    "# Create the network and look at it's text representation\n",
    "model = Network()\n",
    "model"
   ]
  },
  {
   "cell_type": "markdown",
   "metadata": {},
   "source": [
    "You can define the network somewhat more concisely and clearly using the `torch.nn.functional` module. This is the most common way you'll see networks defined as many operations are simple element-wise functions. We normally import this module as `F`, `import torch.nn.functional as F`."
   ]
  },
  {
   "cell_type": "code",
   "execution_count": 71,
   "metadata": {},
   "outputs": [],
   "source": [
    "import torch.nn.functional as F\n",
    "\n",
    "class Network(nn.Module):\n",
    "    def __init__(self):\n",
    "        super().__init__()\n",
    "        # Inputs to hidden layer linear transformation\n",
    "        self.hidden = nn.Linear(784, 256)\n",
    "        # Output layer, 10 units - one for each digit\n",
    "        self.output = nn.Linear(256, 10)\n",
    "        \n",
    "    def forward(self, x):\n",
    "        # Hidden layer with sigmoid activation\n",
    "        x = F.sigmoid(self.hidden(x))\n",
    "        # Output layer with softmax activation\n",
    "        x = F.softmax(self.output(x), dim=1)\n",
    "        \n",
    "        return x"
   ]
  },
  {
   "cell_type": "markdown",
   "metadata": {},
   "source": [
    "### Activation functions\n",
    "\n",
    "So far we've only been looking at the sigmoid activation function, but in general any function can be used as an activation function. The only requirement is that for a network to approximate a non-linear function, the activation functions must be non-linear. Here are a few more examples of common activation functions: Tanh (hyperbolic tangent), and ReLU (rectified linear unit).\n",
    "\n",
    "<img src=\"assets/activation.png\" width=700px>\n",
    "\n",
    "In practice, the ReLU function is used almost exclusively as the activation function for hidden layers."
   ]
  },
  {
   "cell_type": "markdown",
   "metadata": {},
   "source": [
    "### Your Turn to Build a Network\n",
    "\n",
    "<img src=\"assets/mlp_mnist.png\" width=600px>\n",
    "\n",
    "> **Exercise:** Create a network with 784 input units, a hidden layer with 128 units and a ReLU activation, then a hidden layer with 64 units and a ReLU activation, and finally an output layer with a softmax activation as shown above. You can use a ReLU activation with the `nn.ReLU` module or `F.relu` function.\n",
    "\n",
    "It's good practice to name your layers by their type of network, for instance 'fc' to represent a fully-connected layer. As you code your solution, use `fc1`, `fc2`, and `fc3` as your layer names."
   ]
  },
  {
   "cell_type": "code",
   "execution_count": 72,
   "metadata": {
    "scrolled": true
   },
   "outputs": [],
   "source": [
    "## Your solution here\n"
   ]
  },
  {
   "cell_type": "markdown",
   "metadata": {},
   "source": [
    "### Initializing weights and biases\n",
    "\n",
    "The weights and such are automatically initialized for you, but it's possible to customize how they are initialized. The weights and biases are tensors attached to the layer you defined, you can get them with `model.fc1.weight` for instance."
   ]
  },
  {
   "cell_type": "code",
   "execution_count": 73,
   "metadata": {},
   "outputs": [
    {
     "ename": "AttributeError",
     "evalue": "'Network' object has no attribute 'fc1'",
     "output_type": "error",
     "traceback": [
      "\u001b[0;31m---------------------------------------------------------------------------\u001b[0m",
      "\u001b[0;31mAttributeError\u001b[0m                            Traceback (most recent call last)",
      "\u001b[0;32m<ipython-input-73-59b34e7f797b>\u001b[0m in \u001b[0;36m<module>\u001b[0;34m\u001b[0m\n\u001b[0;32m----> 1\u001b[0;31m \u001b[0mprint\u001b[0m\u001b[0;34m(\u001b[0m\u001b[0mmodel\u001b[0m\u001b[0;34m.\u001b[0m\u001b[0mfc1\u001b[0m\u001b[0;34m.\u001b[0m\u001b[0mweight\u001b[0m\u001b[0;34m)\u001b[0m\u001b[0;34m\u001b[0m\u001b[0;34m\u001b[0m\u001b[0m\n\u001b[0m\u001b[1;32m      2\u001b[0m \u001b[0mprint\u001b[0m\u001b[0;34m(\u001b[0m\u001b[0mmodel\u001b[0m\u001b[0;34m.\u001b[0m\u001b[0mfc1\u001b[0m\u001b[0;34m.\u001b[0m\u001b[0mbias\u001b[0m\u001b[0;34m)\u001b[0m\u001b[0;34m\u001b[0m\u001b[0;34m\u001b[0m\u001b[0m\n",
      "\u001b[0;32m~/anaconda3/envs/pytorch/lib/python3.6/site-packages/torch/nn/modules/module.py\u001b[0m in \u001b[0;36m__getattr__\u001b[0;34m(self, name)\u001b[0m\n\u001b[1;32m    533\u001b[0m                 \u001b[0;32mreturn\u001b[0m \u001b[0mmodules\u001b[0m\u001b[0;34m[\u001b[0m\u001b[0mname\u001b[0m\u001b[0;34m]\u001b[0m\u001b[0;34m\u001b[0m\u001b[0;34m\u001b[0m\u001b[0m\n\u001b[1;32m    534\u001b[0m         raise AttributeError(\"'{}' object has no attribute '{}'\".format(\n\u001b[0;32m--> 535\u001b[0;31m             type(self).__name__, name))\n\u001b[0m\u001b[1;32m    536\u001b[0m \u001b[0;34m\u001b[0m\u001b[0m\n\u001b[1;32m    537\u001b[0m     \u001b[0;32mdef\u001b[0m \u001b[0m__setattr__\u001b[0m\u001b[0;34m(\u001b[0m\u001b[0mself\u001b[0m\u001b[0;34m,\u001b[0m \u001b[0mname\u001b[0m\u001b[0;34m,\u001b[0m \u001b[0mvalue\u001b[0m\u001b[0;34m)\u001b[0m\u001b[0;34m:\u001b[0m\u001b[0;34m\u001b[0m\u001b[0;34m\u001b[0m\u001b[0m\n",
      "\u001b[0;31mAttributeError\u001b[0m: 'Network' object has no attribute 'fc1'"
     ]
    }
   ],
   "source": [
    "print(model.fc1.weight)\n",
    "print(model.fc1.bias)"
   ]
  },
  {
   "cell_type": "markdown",
   "metadata": {},
   "source": [
    "For custom initialization, we want to modify these tensors in place. These are actually autograd *Variables*, so we need to get back the actual tensors with `model.fc1.weight.data`. Once we have the tensors, we can fill them with zeros (for biases) or random normal values."
   ]
  },
  {
   "cell_type": "code",
   "execution_count": null,
   "metadata": {
    "collapsed": true
   },
   "outputs": [],
   "source": [
    "# Set biases to all zeros\n",
    "model.fc1.bias.data.fill_(0)"
   ]
  },
  {
   "cell_type": "code",
   "execution_count": null,
   "metadata": {
    "collapsed": true
   },
   "outputs": [],
   "source": [
    "# sample from random normal with standard dev = 0.01\n",
    "model.fc1.weight.data.normal_(std=0.01)"
   ]
  },
  {
   "cell_type": "markdown",
   "metadata": {},
   "source": [
    "### Forward pass\n",
    "\n",
    "Now that we have a network, let's see what happens when we pass in an image."
   ]
  },
  {
   "cell_type": "code",
   "execution_count": null,
   "metadata": {
    "collapsed": true
   },
   "outputs": [],
   "source": [
    "# Grab some data \n",
    "dataiter = iter(trainloader)\n",
    "images, labels = dataiter.next()\n",
    "\n",
    "# Resize images into a 1D vector, new shape is (batch size, color channels, image pixels) \n",
    "images.resize_(64, 1, 784)\n",
    "# or images.resize_(images.shape[0], 1, 784) to automatically get batch size\n",
    "\n",
    "# Forward pass through the network\n",
    "img_idx = 0\n",
    "ps = model.forward(images[img_idx,:])\n",
    "\n",
    "img = images[img_idx]\n",
    "helper.view_classify(img.view(1, 28, 28), ps)"
   ]
  },
  {
   "cell_type": "markdown",
   "metadata": {},
   "source": [
    "As you can see above, our network has basically no idea what this digit is. It's because we haven't trained it yet, all the weights are random!\n",
    "\n",
    "### Using `nn.Sequential`\n",
    "\n",
    "PyTorch provides a convenient way to build networks like this where a tensor is passed sequentially through operations, `nn.Sequential` ([documentation](https://pytorch.org/docs/master/nn.html#torch.nn.Sequential)). Using this to build the equivalent network:"
   ]
  },
  {
   "cell_type": "code",
   "execution_count": null,
   "metadata": {
    "collapsed": true
   },
   "outputs": [],
   "source": [
    "# Hyperparameters for our network\n",
    "input_size = 784\n",
    "hidden_sizes = [128, 64]\n",
    "output_size = 10\n",
    "\n",
    "# Build a feed-forward network\n",
    "model = nn.Sequential(nn.Linear(input_size, hidden_sizes[0]),\n",
    "                      nn.ReLU(),\n",
    "                      nn.Linear(hidden_sizes[0], hidden_sizes[1]),\n",
    "                      nn.ReLU(),\n",
    "                      nn.Linear(hidden_sizes[1], output_size),\n",
    "                      nn.Softmax(dim=1))\n",
    "print(model)\n",
    "\n",
    "# Forward pass through the network and display output\n",
    "images, labels = next(iter(trainloader))\n",
    "images.resize_(images.shape[0], 1, 784)\n",
    "ps = model.forward(images[0,:])\n",
    "helper.view_classify(images[0].view(1, 28, 28), ps)"
   ]
  },
  {
   "cell_type": "markdown",
   "metadata": {},
   "source": [
    "Here our model is the same as before: 784 input units, a hidden layer with 128 units, ReLU activation, 64 unit hidden layer, another ReLU, then the output layer with 10 units, and the softmax output.\n",
    "\n",
    "The operations are available by passing in the appropriate index. For example, if you want to get first Linear operation and look at the weights, you'd use `model[0]`."
   ]
  },
  {
   "cell_type": "code",
   "execution_count": null,
   "metadata": {
    "collapsed": true
   },
   "outputs": [],
   "source": [
    "print(model[0])\n",
    "model[0].weight"
   ]
  },
  {
   "cell_type": "markdown",
   "metadata": {},
   "source": [
    "You can also pass in an `OrderedDict` to name the individual layers and operations, instead of using incremental integers. Note that dictionary keys must be unique, so _each operation must have a different name_."
   ]
  },
  {
   "cell_type": "code",
   "execution_count": null,
   "metadata": {
    "collapsed": true
   },
   "outputs": [],
   "source": [
    "from collections import OrderedDict\n",
    "model = nn.Sequential(OrderedDict([\n",
    "                      ('fc1', nn.Linear(input_size, hidden_sizes[0])),\n",
    "                      ('relu1', nn.ReLU()),\n",
    "                      ('fc2', nn.Linear(hidden_sizes[0], hidden_sizes[1])),\n",
    "                      ('relu2', nn.ReLU()),\n",
    "                      ('output', nn.Linear(hidden_sizes[1], output_size)),\n",
    "                      ('softmax', nn.Softmax(dim=1))]))\n",
    "model"
   ]
  },
  {
   "cell_type": "markdown",
   "metadata": {},
   "source": [
    "Now you can access layers either by integer or the name"
   ]
  },
  {
   "cell_type": "code",
   "execution_count": null,
   "metadata": {
    "collapsed": true
   },
   "outputs": [],
   "source": [
    "print(model[0])\n",
    "print(model.fc1)"
   ]
  },
  {
   "cell_type": "markdown",
   "metadata": {},
   "source": [
    "In the next notebook, we'll see how we can train a neural network to accuractly predict the numbers appearing in the MNIST images."
   ]
  }
 ],
 "metadata": {
  "kernelspec": {
   "display_name": "Python 3",
   "language": "python",
   "name": "python3"
  },
  "language_info": {
   "codemirror_mode": {
    "name": "ipython",
    "version": 3
   },
   "file_extension": ".py",
   "mimetype": "text/x-python",
   "name": "python",
   "nbconvert_exporter": "python",
   "pygments_lexer": "ipython3",
   "version": "3.6.7"
  }
 },
 "nbformat": 4,
 "nbformat_minor": 2
}
