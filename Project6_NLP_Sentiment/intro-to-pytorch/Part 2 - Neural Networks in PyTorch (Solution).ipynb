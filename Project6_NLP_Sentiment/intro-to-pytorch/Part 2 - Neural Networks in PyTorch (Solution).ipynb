{
 "cells": [
  {
   "cell_type": "markdown",
   "metadata": {},
   "source": [
    "# Neural networks with PyTorch\n",
    "\n",
    "Deep learning networks tend to be massive with dozens or hundreds of layers, that's where the term \"deep\" comes from. You can build one of these deep networks using only weight matrices as we did in the previous notebook, but in general it's very cumbersome and difficult to implement. PyTorch has a nice module `nn` that provides a nice way to efficiently build large neural networks."
   ]
  },
  {
   "cell_type": "code",
   "execution_count": 1,
   "metadata": {},
   "outputs": [],
   "source": [
    "# Import necessary packages\n",
    "\n",
    "%matplotlib inline\n",
    "%config InlineBackend.figure_format = 'retina'\n",
    "\n",
    "import numpy as np\n",
    "import torch\n",
    "\n",
    "import helper\n",
    "\n",
    "import matplotlib.pyplot as plt"
   ]
  },
  {
   "cell_type": "markdown",
   "metadata": {},
   "source": [
    "\n",
    "Now we're going to build a larger network that can solve a (formerly) difficult problem, identifying text in an image. Here we'll use the MNIST dataset which consists of greyscale handwritten digits. Each image is 28x28 pixels, you can see a sample below\n",
    "\n",
    "<img src='assets/mnist.png'>\n",
    "\n",
    "Our goal is to build a neural network that can take one of these images and predict the digit in the image.\n",
    "\n",
    "First up, we need to get our dataset. This is provided through the `torchvision` package. The code below will download the MNIST dataset, then create training and test datasets for us. Don't worry too much about the details here, you'll learn more about this later."
   ]
  },
  {
   "cell_type": "code",
   "execution_count": 2,
   "metadata": {},
   "outputs": [],
   "source": [
    "### Run this cell\n",
    "\n",
    "from torchvision import datasets, transforms\n",
    "\n",
    "# Define a transform to normalize the data\n",
    "transform = transforms.Compose([transforms.ToTensor(),\n",
    "                              transforms.Normalize((0.5,), (0.5,)),\n",
    "                              ])\n",
    "# Download and load the training data\n",
    "trainset = datasets.MNIST('~/.pytorch/MNIST_data/', download=True, train=True, transform=transform)\n",
    "trainloader = torch.utils.data.DataLoader(trainset, batch_size=64, shuffle=True)"
   ]
  },
  {
   "cell_type": "markdown",
   "metadata": {},
   "source": [
    "We have the training data loaded into `trainloader` and we make that an iterator with `iter(trainloader)`. Later, we'll use this to loop through the dataset for training, like\n",
    "\n",
    "```python\n",
    "for image, label in trainloader:\n",
    "    ## do things with images and labels\n",
    "```\n",
    "\n",
    "You'll notice I created the `trainloader` with a batch size of 64, and `shuffle=True`. The batch size is the number of images we get in one iteration from the data loader and pass through our network, often called a *batch*. And `shuffle=True` tells it to shuffle the dataset every time we start going through the data loader again. But here I'm just grabbing the first batch so we can check out the data. We can see below that `images` is just a tensor with size `(64, 1, 28, 28)`. So, 64 images per batch, 1 color channel, and 28x28 images."
   ]
  },
  {
   "cell_type": "code",
   "execution_count": 3,
   "metadata": {},
   "outputs": [
    {
     "name": "stdout",
     "output_type": "stream",
     "text": [
      "<class 'torch.Tensor'>\n",
      "torch.Size([64, 1, 28, 28])\n",
      "torch.Size([64])\n"
     ]
    }
   ],
   "source": [
    "dataiter = iter(trainloader)\n",
    "images, labels = dataiter.next()\n",
    "print(type(images))\n",
    "print(images.shape)\n",
    "print(labels.shape)"
   ]
  },
  {
   "cell_type": "markdown",
   "metadata": {},
   "source": [
    "This is what one of the images looks like. "
   ]
  },
  {
   "cell_type": "code",
   "execution_count": 4,
   "metadata": {},
   "outputs": [
    {
     "data": {
      "image/png": "[encoded data removed]",
      "text/plain": [
       "<Figure size 432x288 with 1 Axes>"
      ]
     },
     "metadata": {
      "image/png": {
       "height": 250,
       "width": 253
      },
      "needs_background": "light"
     },
     "output_type": "display_data"
    }
   ],
   "source": [
    "plt.imshow(images[1].numpy().squeeze(), cmap='Greys_r');"
   ]
  },
  {
   "cell_type": "markdown",
   "metadata": {},
   "source": [
    "First, let's try to build a simple network for this dataset using weight matrices and matrix multiplications. Then, we'll see how to do it using PyTorch's `nn` module which provides a much more convenient and powerful method for defining network architectures.\n",
    "\n",
    "The networks you've seen so far are called *fully-connected* or *dense* networks. Each unit in one layer is connected to each unit in the next layer. In fully-connected networks, the input to each layer must be a one-dimensional vector (which can be stacked into a 2D tensor as a batch of multiple examples). However, our images are 28x28 2D tensors, so we need to convert them into 1D vectors. Thinking about sizes, we need to convert the batch of images with shape `(64, 1, 28, 28)` to a have a shape of `(64, 784)`, 784 is 28 times 28. This is typically called *flattening*, we flattened the 2D images into 1D vectors.\n",
    "\n",
    "Previously you built a network with one output unit. Here we need 10 output units, one for each digit. We want our network to predict the digit shown in an image, so what we'll do is calculate probabilities that the image is of any one digit or class. This ends up being a discrete probability distribution over the classes (digits) that tells us the most likely class for the image. That means we need 10 output units for the 10 classes (digits). We'll see how to convert the network output into a probability distribution next.\n",
    "\n",
    "> **Exercise:** Flatten the batch of images `images`. Then build a multi-layer network with 784 input units, 256 hidden units, and 10 output units using random tensors for the weights and biases. For now, use a sigmoid activation for the hidden layer. Leave the output layer without an activation, we'll add one that gives us a probability distribution next."
   ]
  },
  {
   "cell_type": "code",
   "execution_count": 11,
   "metadata": {},
   "outputs": [],
   "source": [
    "## Solution\n",
    "def activation(x):\n",
    "    return 1/(1+torch.exp(-x))\n",
    "\n",
    "# Flatten the input images\n",
    "inputs = images.view(images.shape[0], -1)\n",
    "\n",
    "# Create parameters\n",
    "w1 = torch.randn(784, 256)\n",
    "b1 = torch.randn(256)\n",
    "\n",
    "w2 = torch.randn(256, 10)\n",
    "b2 = torch.randn(10)\n",
    "\n",
    "h = activation(torch.mm(inputs, w1) + b1)\n",
    "\n",
    "out = torch.mm(h, w2) + b2"
   ]
  },
  {
   "cell_type": "code",
   "execution_count": 12,
   "metadata": {},
   "outputs": [
    {
     "data": {
      "text/plain": [
       "tensor([[-3.1184e+00, -1.1966e+01, -2.2725e+01, -1.1270e+01,  2.8561e+00,\n",
       "         -3.1651e+00, -6.0479e+00,  1.1930e+01, -3.4604e+01, -6.6625e+00],\n",
       "        [-8.1079e+00, -8.9925e+00, -2.0469e+01, -1.9441e+01, -6.6889e+00,\n",
       "          6.1898e+00, -8.2966e+00,  1.5959e+01, -1.7571e+01,  2.1418e+00],\n",
       "        [ 1.4797e+01, -7.2134e+00, -1.9449e+01, -1.9509e+01,  9.2036e-01,\n",
       "          9.5255e-03,  4.1539e+00,  8.7097e+00, -1.9235e+01, -8.5600e+00],\n",
       "        [-4.2749e+00, -9.5429e+00, -1.6381e+01, -1.8419e+01,  3.7865e+00,\n",
       "          6.6479e+00, -7.6813e+00,  8.2669e+00, -1.5933e+01, -9.2412e+00],\n",
       "        [-4.6246e+00, -4.9914e+00, -1.3672e+01, -1.6343e+01, -5.4565e+00,\n",
       "         -2.4026e+00,  4.4280e+00,  4.7841e+00, -2.8758e+01,  2.3308e+00],\n",
       "        [ 3.6540e+00, -1.3897e+01, -1.7187e+01, -1.1322e+01,  2.7139e-01,\n",
       "         -1.2713e-01,  1.3337e+01,  1.3171e+01, -3.1390e+01, -1.2320e+01],\n",
       "        [ 7.3869e+00, -5.9711e+00, -2.2119e+01, -1.1535e+01,  6.4188e+00,\n",
       "         -1.3226e+00, -5.2318e+00,  5.1586e+00, -2.1186e+01, -1.1656e+01],\n",
       "        [-4.6018e+00, -1.0668e+01, -1.5865e+01, -6.9395e+00, -7.0524e+00,\n",
       "          5.4473e-01,  4.1675e+00,  6.3550e+00, -2.1760e+01,  2.7073e+00],\n",
       "        [ 7.3287e+00, -2.5793e+01, -1.2026e+01, -2.0855e+01, -3.3577e+00,\n",
       "          4.6290e+00,  1.3601e+01,  3.6138e+00, -2.4719e+01, -5.8451e+00],\n",
       "        [-7.7004e+00, -9.0056e+00, -1.9418e+01, -8.5965e+00, -5.6336e+00,\n",
       "          4.1708e+00, -2.1752e+00,  9.8332e+00, -1.8103e+01, -1.7155e+00],\n",
       "        [-4.8532e+00, -1.5555e+01, -8.0873e+00, -1.1981e+01, -3.9105e-01,\n",
       "         -2.3065e+00,  4.5325e+00,  6.8755e+00, -2.0037e+01,  3.3360e-01],\n",
       "        [-1.1870e+01, -1.1308e+01, -1.6251e+01, -5.8808e+00, -2.8249e+00,\n",
       "          5.8723e+00, -1.8858e+00,  3.9116e+00, -2.5908e+01, -3.9291e+00],\n",
       "        [ 2.0143e+00, -1.1286e+01, -1.8254e+01, -2.0402e+01,  4.4984e+00,\n",
       "         -3.9301e+00,  8.3111e+00,  7.9577e+00, -3.3287e+01, -3.5799e+00],\n",
       "        [-6.2225e+00, -1.3176e+01, -1.2018e+01, -1.2144e+01, -8.2258e+00,\n",
       "          3.8267e+00,  2.2972e+00,  1.5740e+01, -1.0480e+01, -1.0382e+01],\n",
       "        [-7.2546e+00, -9.7378e+00, -8.8112e+00, -7.2264e+00, -1.1774e+01,\n",
       "          6.3826e+00, -2.5805e+00,  1.0031e+01, -9.8854e+00,  1.2679e+01],\n",
       "        [-8.1417e+00, -1.4905e+01, -1.6159e+01, -1.6520e+01, -1.3006e+00,\n",
       "          1.3360e+00,  3.6603e+00,  1.6192e+01, -1.5756e+01,  4.0221e+00],\n",
       "        [-8.7753e+00, -8.3381e+00, -1.6339e+01, -1.3400e+01, -1.2976e+00,\n",
       "          1.2703e+01, -3.3647e+00,  1.8877e+01, -9.5192e+00, -5.3155e+00],\n",
       "        [ 6.5863e+00, -1.7944e+01, -8.2052e+00, -1.5352e+01, -3.7116e+00,\n",
       "          9.0951e+00, -1.4974e+00, -7.5302e-01, -2.0810e+01,  4.5277e+00],\n",
       "        [-3.8314e+00, -1.6044e+01, -1.9126e+01, -1.8310e+01, -9.4699e+00,\n",
       "         -1.0871e+00,  8.6747e+00,  2.9648e+01, -2.6092e+01, -6.1639e+00],\n",
       "        [-2.1784e+00, -1.2865e+01, -1.1593e+01, -5.5974e+00, -6.7901e+00,\n",
       "          8.2325e+00, -2.2061e+00,  5.6806e+00, -1.6251e+01,  2.5537e+00],\n",
       "        [-4.4127e+00, -1.8156e+01, -1.2301e+01, -1.5242e+01, -8.1083e+00,\n",
       "          6.9868e+00, -4.2359e-01, -1.7230e+00, -2.1142e+01,  1.5424e-01],\n",
       "        [ 8.5424e+00, -1.5178e+00, -2.1182e+01, -6.2411e+00,  1.7504e+00,\n",
       "         -8.7317e+00, -5.9366e+00,  3.4761e+00, -2.4866e+01,  7.0097e+00],\n",
       "        [ 2.1876e+00, -1.3976e+01, -1.1575e+01, -1.4789e+01,  4.0273e-02,\n",
       "          6.9251e+00, -4.4850e+00,  1.0893e+01, -2.1195e+01,  5.4032e+00],\n",
       "        [-1.1402e+01, -1.7946e+01, -8.6108e+00, -2.8803e+00,  2.3679e+00,\n",
       "          6.9084e-02, -5.4309e-02,  1.1375e+01, -2.5982e+01, -1.5041e+00],\n",
       "        [-6.4680e-01, -1.2241e+01, -2.6141e+01, -9.4018e+00,  2.4439e-01,\n",
       "         -9.7659e-01,  2.4783e-01,  1.6938e+01, -1.4367e+01,  7.6528e-01],\n",
       "        [-5.0551e+00, -1.7794e+01, -1.8918e+01, -1.9968e+01, -1.4005e+00,\n",
       "          1.7471e+00, -2.9261e+00,  1.3016e+01, -2.8482e+01,  1.9818e+00],\n",
       "        [ 1.2783e+01, -1.0267e+01, -2.0057e+01, -5.1614e+00, -5.3339e+00,\n",
       "         -4.4645e+00,  3.7608e+00,  6.1230e+00, -2.2146e+01, -6.6210e+00],\n",
       "        [-1.9042e+00, -2.1202e+01, -1.5431e+01, -1.5388e+01, -7.4753e+00,\n",
       "          5.3897e+00,  1.3863e+01,  1.3005e+01, -2.1678e+01, -1.1291e+01],\n",
       "        [-7.2631e+00, -6.5870e+00, -2.3320e+01, -9.7456e+00,  4.0915e+00,\n",
       "         -2.9996e-01,  1.4561e+00,  4.6328e+00, -3.2026e+01,  1.0048e+00],\n",
       "        [-1.5360e+00, -3.8703e+00, -9.2833e+00, -1.3017e+01, -8.7631e+00,\n",
       "         -3.3181e+00, -7.7614e+00,  1.1543e+01, -2.1838e+01,  6.8622e+00],\n",
       "        [-1.8023e+00, -2.3076e+01, -1.1357e+01, -1.5150e+01, -6.8645e-02,\n",
       "         -6.5276e+00,  9.8107e+00,  1.6599e+01, -1.4307e+01, -4.9299e+00],\n",
       "        [ 2.6128e-01, -8.4437e+00, -2.3256e+01, -1.6482e+01, -1.0028e+01,\n",
       "          1.3939e+00, -8.8487e+00,  1.4664e+01, -2.2156e+01, -1.2265e+00],\n",
       "        [-5.2842e+00, -9.0132e+00, -8.9227e+00, -6.9546e+00, -9.5035e+00,\n",
       "          6.3991e+00, -1.6013e+00,  8.9043e+00, -1.5245e+01,  3.0440e+00],\n",
       "        [-8.9783e+00, -1.0290e+01, -1.5372e+01, -3.5404e+00, -1.9349e+00,\n",
       "          6.5754e+00, -5.7609e+00,  8.7582e+00, -2.5374e+01, -1.0196e+00],\n",
       "        [-9.9686e-01, -1.9880e+01, -1.4793e+01, -1.3023e+01, -4.1163e+00,\n",
       "          7.1112e+00,  1.1484e+01,  5.9977e+00, -1.8218e+01,  5.8362e+00],\n",
       "        [ 3.2794e-02, -8.0428e+00, -8.7837e+00, -1.8823e+01, -9.7703e-01,\n",
       "         -1.4923e+00, -5.2532e+00,  5.9656e+00, -2.3251e+01,  3.4093e+00],\n",
       "        [-1.1279e+00, -1.5096e+01, -1.5804e+01, -1.0233e+01, -3.3295e+00,\n",
       "          5.0914e+00,  5.7468e-01,  7.3186e+00, -1.5533e+01,  5.1347e+00],\n",
       "        [-2.5490e+00, -2.3246e+01, -1.5938e+01, -6.4396e+00, -4.1816e-01,\n",
       "          2.1025e+00,  2.6429e+00,  7.7014e+00, -2.6971e+01,  2.3187e+00],\n",
       "        [-5.8375e+00, -1.0593e+01, -1.3937e+01, -1.8558e+01, -8.4250e+00,\n",
       "         -7.3159e-01, -4.6068e+00,  1.9993e+01, -1.9036e+01,  2.1548e+00],\n",
       "        [ 5.2848e+00, -9.9003e+00, -1.5901e+01, -1.2468e+01,  1.1699e+01,\n",
       "          4.2991e+00, -3.2756e+00, -7.4752e-01, -1.6968e+01, -8.3967e+00],\n",
       "        [ 3.8107e+00, -6.8570e+00, -9.1843e+00, -6.4986e+00, -2.8191e+00,\n",
       "          3.1741e+00, -1.7734e+00,  1.8807e+00, -1.9445e+01, -1.8476e+01],\n",
       "        [ 2.3032e+00, -1.7973e+01, -1.2801e+01, -6.8883e+00,  1.4377e+00,\n",
       "         -5.1986e+00, -4.5967e+00,  1.0603e+01, -9.1737e+00, -9.4626e+00],\n",
       "        [-1.2153e+00, -1.6719e+01, -1.3303e+01, -1.3800e+01, -3.4380e+00,\n",
       "          6.9403e+00, -1.9678e+00,  6.2348e+00, -1.6364e+01,  2.4919e+00],\n",
       "        [-5.6481e+00, -1.4972e+01, -1.2385e+01, -4.2732e-01, -9.1938e+00,\n",
       "          2.7919e+00,  2.7091e-01,  7.1224e+00, -1.6325e+01,  3.3622e+00],\n",
       "        [-3.2403e+00, -1.7091e+01, -1.8669e+01, -2.3046e+01,  7.4767e-01,\n",
       "         -7.8076e+00,  2.4863e+00,  1.5972e+01, -2.7161e+01, -6.4523e-01],\n",
       "        [-4.5133e+00, -1.5806e+01, -1.0602e+01, -3.4917e+00,  2.6067e+00,\n",
       "         -9.9214e+00,  3.4870e+00,  1.3786e+01, -1.3932e+01, -2.4678e+00],\n",
       "        [ 4.7399e+00, -9.5613e+00, -5.0104e+00, -8.9672e+00, -4.8142e+00,\n",
       "          3.1122e+00, -7.7788e+00,  1.0049e+01, -1.6060e+01, -1.9234e+00],\n",
       "        [ 4.6014e+00, -1.2707e+01, -2.0800e+01, -4.9854e+00, -2.6351e+00,\n",
       "         -2.8450e+00, -3.7221e+00, -9.1958e-01, -2.6355e+01, -9.6336e-01],\n",
       "        [-2.0662e+00, -1.5263e+01, -2.1729e+01, -8.8854e+00, -9.7884e+00,\n",
       "          2.1583e+00,  6.9086e+00,  9.1807e+00, -1.5638e+01, -3.4847e+00],\n",
       "        [ 5.4507e+00, -8.7626e+00, -4.5969e+00, -1.3448e+01, -4.4648e+00,\n",
       "          3.5341e+00, -1.6644e+00,  1.0911e+01, -1.3078e+01,  4.0324e+00],\n",
       "        [ 1.4719e+01, -8.0112e+00, -2.6091e+01, -1.4656e+01,  8.3443e+00,\n",
       "          2.8532e+00, -1.8110e-01,  5.4944e+00, -2.2467e+01, -3.3695e+00],\n",
       "        [-4.6521e+00, -6.9691e+00, -1.8482e+01, -2.1821e+01, -3.7389e-01,\n",
       "         -9.8604e+00, -2.7953e+00,  8.4384e+00, -2.0152e+01,  5.7890e-01],\n",
       "        [-3.7413e+00, -8.2976e+00, -1.7854e+01, -3.1691e+00, -9.1793e+00,\n",
       "          5.3137e+00, -1.0005e+01,  1.5625e+01, -2.9583e+01,  1.5637e+01],\n",
       "        [-6.0239e+00, -9.7309e+00, -1.3097e+01, -1.0140e+01, -1.0939e+01,\n",
       "          5.9136e+00, -4.4687e+00,  1.1422e+01, -2.1298e+01,  6.1526e+00],\n",
       "        [-3.9874e+00, -1.1348e+01, -1.3307e+01, -9.7672e+00, -2.6490e+00,\n",
       "          2.6486e-01, -2.8351e+00,  4.0886e+00, -3.2464e+01, -4.5181e+00],\n",
       "        [-8.3925e+00, -8.0052e+00, -1.8219e+01, -1.1474e+01, -2.3229e+00,\n",
       "          5.5556e+00, -8.2421e+00,  8.1039e+00, -2.0712e+01, -1.0705e-01],\n",
       "        [-7.7843e+00, -1.1589e+01, -1.1057e+01, -1.1786e+01, -2.7245e+00,\n",
       "          4.9667e+00, -2.0872e+00,  2.0872e+01, -2.2946e+01,  3.5226e+00],\n",
       "        [ 2.5576e+00, -2.2975e+01, -9.8748e+00, -1.6386e+01, -1.6788e+00,\n",
       "         -1.7883e+00, -1.1407e+01,  8.0967e+00, -2.1367e+01, -7.1722e+00],\n",
       "        [-1.3339e+00, -1.0172e+01, -8.5363e+00, -1.3474e+01, -4.8428e+00,\n",
       "          5.4246e-01, -3.8119e+00,  4.9286e+00, -2.4677e+01,  6.0485e+00],\n",
       "        [-1.4408e+00, -1.2348e+01, -1.6011e+01, -9.4949e+00, -2.3282e-01,\n",
       "          5.3973e+00,  2.1004e+00,  9.9517e+00, -1.9434e+01,  4.2853e+00],\n",
       "        [-9.9371e-01, -6.0227e+00, -1.5147e+01, -4.1634e+00,  9.0499e-02,\n",
       "          2.4076e+00, -2.1039e+00,  1.6788e+01, -2.1776e+01,  1.1047e+00],\n",
       "        [-7.9830e+00, -1.3210e+01, -2.5114e+01, -3.6982e+00, -9.1270e+00,\n",
       "          5.8869e+00, -2.1466e+00,  1.0391e+01, -1.5940e+01,  3.1724e+00],\n",
       "        [-4.5955e+00, -1.3076e+01, -1.3851e+01, -1.2487e+01, -8.9556e+00,\n",
       "         -3.2858e+00, -2.8551e+00,  1.7566e+01, -1.2784e+01, -9.1505e+00],\n",
       "        [-4.2497e+00, -1.0968e+01, -1.2917e+01, -1.5461e+01,  3.3369e-01,\n",
       "          2.8223e+00, -5.3558e+00,  9.1337e+00, -2.4714e+01,  6.0957e+00]])"
      ]
     },
     "execution_count": 12,
     "metadata": {},
     "output_type": "execute_result"
    }
   ],
   "source": [
    "out"
   ]
  },
  {
   "cell_type": "markdown",
   "metadata": {},
   "source": [
    "Now we have 10 outputs for our network. We want to pass in an image to our network and get out a probability distribution over the classes that tells us the likely class(es) the image belongs to. Something that looks like this:\n",
    "<img src='assets/image_distribution.png' width=500px>\n",
    "\n",
    "Here we see that the probability for each class is roughly the same. This is representing an untrained network, it hasn't seen any data yet so it just returns a uniform distribution with equal probabilities for each class.\n",
    "\n",
    "To calculate this probability distribution, we often use the [**softmax** function](https://en.wikipedia.org/wiki/Softmax_function). Mathematically this looks like\n",
    "\n",
    "$$\n",
    "\\Large \\sigma(x_i) = \\cfrac{e^{x_i}}{\\sum_k^K{e^{x_k}}}\n",
    "$$\n",
    "\n",
    "What this does is squish each input $x_i$ between 0 and 1 and normalizes the values to give you a proper probability distribution where the probabilites sum up to one.\n",
    "\n",
    "> **Exercise:** Implement a function `softmax` that performs the softmax calculation and returns probability distributions for each example in the batch. Note that you'll need to pay attention to the shapes when doing this. If you have a tensor `a` with shape `(64, 10)` and a tensor `b` with shape `(64,)`, doing `a/b` will give you an error because PyTorch will try to do the division across the columns (called broadcasting) but you'll get a size mismatch. The way to think about this is for each of the 64 examples, you only want to divide by one value, the sum in the denominator. So you need `b` to have a shape of `(64, 1)`. This way PyTorch will divide the 10 values in each row of `a` by the one value in each row of `b`. Pay attention to how you take the sum as well. You'll need to define the `dim` keyword in `torch.sum`. Setting `dim=0` takes the sum across the rows while `dim=1` takes the sum across the columns."
   ]
  },
  {
   "cell_type": "code",
   "execution_count": 6,
   "metadata": {},
   "outputs": [
    {
     "name": "stdout",
     "output_type": "stream",
     "text": [
      "torch.Size([64, 10])\n",
      "tensor([ 1.0000,  1.0000,  1.0000,  1.0000,  1.0000,  1.0000,  1.0000,\n",
      "         1.0000,  1.0000,  1.0000,  1.0000,  1.0000,  1.0000,  1.0000,\n",
      "         1.0000,  1.0000,  1.0000,  1.0000,  1.0000,  1.0000,  1.0000,\n",
      "         1.0000,  1.0000,  1.0000,  1.0000,  1.0000,  1.0000,  1.0000,\n",
      "         1.0000,  1.0000,  1.0000,  1.0000,  1.0000,  1.0000,  1.0000,\n",
      "         1.0000,  1.0000,  1.0000,  1.0000,  1.0000,  1.0000,  1.0000,\n",
      "         1.0000,  1.0000,  1.0000,  1.0000,  1.0000,  1.0000,  1.0000,\n",
      "         1.0000,  1.0000,  1.0000,  1.0000,  1.0000,  1.0000,  1.0000,\n",
      "         1.0000,  1.0000,  1.0000,  1.0000,  1.0000,  1.0000,  1.0000,\n",
      "         1.0000])\n"
     ]
    }
   ],
   "source": [
    "## Solution\n",
    "def softmax(x):\n",
    "    return torch.exp(x)/torch.sum(torch.exp(x), dim=1).view(-1, 1)\n",
    "\n",
    "probabilities = softmax(out)\n",
    "\n",
    "# Does it have the right shape? Should be (64, 10)\n",
    "print(probabilities.shape)\n",
    "# Does it sum to 1?\n",
    "print(probabilities.sum(dim=1))"
   ]
  },
  {
   "cell_type": "markdown",
   "metadata": {},
   "source": [
    "## Building networks with PyTorch\n",
    "\n",
    "PyTorch provides a module `nn` that makes building networks much simpler. Here I'll show you how to build the same one as above with 784 inputs, 256 hidden units, 10 output units and a softmax output."
   ]
  },
  {
   "cell_type": "code",
   "execution_count": 7,
   "metadata": {
    "collapsed": true
   },
   "outputs": [],
   "source": [
    "from torch import nn"
   ]
  },
  {
   "cell_type": "code",
   "execution_count": 8,
   "metadata": {
    "collapsed": true
   },
   "outputs": [],
   "source": [
    "class Network(nn.Module):\n",
    "    def __init__(self):\n",
    "        super().__init__()\n",
    "        \n",
    "        # Inputs to hidden layer linear transformation\n",
    "        self.hidden = nn.Linear(784, 256)\n",
    "        # Output layer, 10 units - one for each digit\n",
    "        self.output = nn.Linear(256, 10)\n",
    "        \n",
    "        # Define sigmoid activation and softmax output \n",
    "        self.sigmoid = nn.Sigmoid()\n",
    "        self.softmax = nn.Softmax(dim=1)\n",
    "        \n",
    "    def forward(self, x):\n",
    "        # Pass the input tensor through each of our operations\n",
    "        x = self.hidden(x)\n",
    "        x = self.sigmoid(x)\n",
    "        x = self.output(x)\n",
    "        x = self.softmax(x)\n",
    "        \n",
    "        return x"
   ]
  },
  {
   "cell_type": "markdown",
   "metadata": {},
   "source": [
    "Let's go through this bit by bit.\n",
    "\n",
    "```python\n",
    "class Network(nn.Module):\n",
    "```\n",
    "\n",
    "Here we're inheriting from `nn.Module`. Combined with `super().__init__()` this creates a class that tracks the architecture and provides a lot of useful methods and attributes. It is mandatory to inherit from `nn.Module` when you're creating a class for your network. The name of the class itself can be anything.\n",
    "\n",
    "```python\n",
    "self.hidden = nn.Linear(784, 256)\n",
    "```\n",
    "\n",
    "This line creates a module for a linear transformation, $x\\mathbf{W} + b$, with 784 inputs and 256 outputs and assigns it to `self.hidden`. The module automatically creates the weight and bias tensors which we'll use in the `forward` method. You can access the weight and bias tensors once the network (`net`) is created with `net.hidden.weight` and `net.hidden.bias`.\n",
    "\n",
    "```python\n",
    "self.output = nn.Linear(256, 10)\n",
    "```\n",
    "\n",
    "Similarly, this creates another linear transformation with 256 inputs and 10 outputs.\n",
    "\n",
    "```python\n",
    "self.sigmoid = nn.Sigmoid()\n",
    "self.softmax = nn.Softmax(dim=1)\n",
    "```\n",
    "\n",
    "Here I defined operations for the sigmoid activation and softmax output. Setting `dim=1` in `nn.Softmax(dim=1)` calculates softmax across the columns.\n",
    "\n",
    "```python\n",
    "def forward(self, x):\n",
    "```\n",
    "\n",
    "PyTorch networks created with `nn.Module` must have a `forward` method defined. It takes in a tensor `x` and passes it through the operations you defined in the `__init__` method.\n",
    "\n",
    "```python\n",
    "x = self.hidden(x)\n",
    "x = self.sigmoid(x)\n",
    "x = self.output(x)\n",
    "x = self.softmax(x)\n",
    "```\n",
    "\n",
    "Here the input tensor `x` is passed through each operation a reassigned to `x`. We can see that the input tensor goes through the hidden layer, then a sigmoid function, then the output layer, and finally the softmax function. It doesn't matter what you name the variables here, as long as the inputs and outputs of the operations match the network architecture you want to build. The order in which you define things in the `__init__` method doesn't matter, but you'll need to sequence the operations correctly in the `forward` method.\n",
    "\n",
    "Now we can create a `Network` object."
   ]
  },
  {
   "cell_type": "code",
   "execution_count": 9,
   "metadata": {},
   "outputs": [
    {
     "data": {
      "text/plain": [
       "Network(\n",
       "  (hidden): Linear(in_features=784, out_features=256, bias=True)\n",
       "  (output): Linear(in_features=256, out_features=10, bias=True)\n",
       "  (sigmoid): Sigmoid()\n",
       "  (softmax): Softmax()\n",
       ")"
      ]
     },
     "execution_count": 9,
     "metadata": {},
     "output_type": "execute_result"
    }
   ],
   "source": [
    "# Create the network and look at it's text representation\n",
    "model = Network()\n",
    "model"
   ]
  },
  {
   "cell_type": "markdown",
   "metadata": {},
   "source": [
    "You can define the network somewhat more concisely and clearly using the `torch.nn.functional` module. This is the most common way you'll see networks defined as many operations are simple element-wise functions. We normally import this module as `F`, `import torch.nn.functional as F`."
   ]
  },
  {
   "cell_type": "code",
   "execution_count": 10,
   "metadata": {
    "collapsed": true
   },
   "outputs": [],
   "source": [
    "import torch.nn.functional as F\n",
    "\n",
    "class Network(nn.Module):\n",
    "    def __init__(self):\n",
    "        super().__init__()\n",
    "        # Inputs to hidden layer linear transformation\n",
    "        self.hidden = nn.Linear(784, 256)\n",
    "        # Output layer, 10 units - one for each digit\n",
    "        self.output = nn.Linear(256, 10)\n",
    "        \n",
    "    def forward(self, x):\n",
    "        # Hidden layer with sigmoid activation\n",
    "        x = F.sigmoid(self.hidden(x))\n",
    "        # Output layer with softmax activation\n",
    "        x = F.softmax(self.output(x), dim=1)\n",
    "        \n",
    "        return x"
   ]
  },
  {
   "cell_type": "markdown",
   "metadata": {},
   "source": [
    "### Activation functions\n",
    "\n",
    "So far we've only been looking at the softmax activation, but in general any function can be used as an activation function. The only requirement is that for a network to approximate a non-linear function, the activation functions must be non-linear. Here are a few more examples of common activation functions: Tanh (hyperbolic tangent), and ReLU (rectified linear unit).\n",
    "\n",
    "<img src=\"assets/activation.png\" width=700px>\n",
    "\n",
    "In practice, the ReLU function is used almost exclusively as the activation function for hidden layers."
   ]
  },
  {
   "cell_type": "markdown",
   "metadata": {},
   "source": [
    "### Your Turn to Build a Network\n",
    "\n",
    "<img src=\"assets/mlp_mnist.png\" width=600px>\n",
    "\n",
    "> **Exercise:** Create a network with 784 input units, a hidden layer with 128 units and a ReLU activation, then a hidden layer with 64 units and a ReLU activation, and finally an output layer with a softmax activation as shown above. You can use a ReLU activation with the `nn.ReLU` module or `F.relu` function.\n",
    "\n",
    "It's good practice to name your layers by their type of network, for instance 'fc' to represent a fully-connected layer. As you code your solution, use `fc1`, `fc2`, and `fc3` as your layer names."
   ]
  },
  {
   "cell_type": "code",
   "execution_count": 11,
   "metadata": {
    "scrolled": true
   },
   "outputs": [
    {
     "data": {
      "text/plain": [
       "Network(\n",
       "  (fc1): Linear(in_features=784, out_features=128, bias=True)\n",
       "  (fc2): Linear(in_features=128, out_features=64, bias=True)\n",
       "  (fc3): Linear(in_features=64, out_features=10, bias=True)\n",
       ")"
      ]
     },
     "execution_count": 11,
     "metadata": {},
     "output_type": "execute_result"
    }
   ],
   "source": [
    "## Solution\n",
    "\n",
    "class Network(nn.Module):\n",
    "    def __init__(self):\n",
    "        super().__init__()\n",
    "        # Defining the layers, 128, 64, 10 units each\n",
    "        self.fc1 = nn.Linear(784, 128)\n",
    "        self.fc2 = nn.Linear(128, 64)\n",
    "        # Output layer, 10 units - one for each digit\n",
    "        self.fc3 = nn.Linear(64, 10)\n",
    "        \n",
    "    def forward(self, x):\n",
    "        ''' Forward pass through the network, returns the output logits '''\n",
    "        \n",
    "        x = self.fc1(x)\n",
    "        x = F.relu(x)\n",
    "        x = self.fc2(x)\n",
    "        x = F.relu(x)\n",
    "        x = self.fc3(x)\n",
    "        x = F.softmax(x, dim=1)\n",
    "        \n",
    "        return x\n",
    "\n",
    "model = Network()\n",
    "model"
   ]
  },
  {
   "cell_type": "markdown",
   "metadata": {},
   "source": [
    "### Initializing weights and biases\n",
    "\n",
    "The weights and such are automatically initialized for you, but it's possible to customize how they are initialized. The weights and biases are tensors attached to the layer you defined, you can get them with `model.fc1.weight` for instance."
   ]
  },
  {
   "cell_type": "code",
   "execution_count": 12,
   "metadata": {},
   "outputs": [
    {
     "name": "stdout",
     "output_type": "stream",
     "text": [
      "Parameter containing:\n",
      "tensor([[-2.3278e-02, -1.2170e-03, -1.1882e-02,  ...,  3.3567e-02,\n",
      "          4.4827e-03,  1.4840e-02],\n",
      "        [ 4.8464e-03,  1.9844e-02,  3.9791e-03,  ..., -2.6048e-02,\n",
      "         -3.5558e-02, -2.2386e-02],\n",
      "        [-1.9664e-02,  8.1722e-03,  2.6729e-02,  ..., -1.5122e-02,\n",
      "          2.7632e-02, -1.9567e-02],\n",
      "        ...,\n",
      "        [-3.3571e-02, -2.9686e-02, -2.1387e-02,  ...,  3.0770e-02,\n",
      "          1.0800e-02, -6.5941e-03],\n",
      "        [ 2.9749e-02,  1.2849e-02,  2.7320e-02,  ..., -1.9899e-02,\n",
      "          2.7131e-02,  2.2082e-02],\n",
      "        [ 1.3992e-02, -2.1520e-02,  3.1907e-02,  ...,  2.2435e-02,\n",
      "          1.1370e-02,  2.1568e-02]])\n",
      "Parameter containing:\n",
      "tensor(1.00000e-02 *\n",
      "       [-1.3222,  2.4094, -2.1571,  3.2237,  2.5302, -1.1515,  2.6382,\n",
      "        -2.3426, -3.5689, -1.0724, -2.8842, -2.9667, -0.5022,  1.1381,\n",
      "         1.2849,  3.0731, -2.0207, -2.3282,  0.3168, -2.8098, -1.0740,\n",
      "        -1.8273,  1.8692,  2.9404,  0.1783,  0.9391, -0.7085, -1.2522,\n",
      "        -2.7769,  0.0916, -1.4283, -0.3267, -1.6876, -1.8580, -2.8724,\n",
      "        -3.5512,  3.2155,  1.5532,  0.8836, -1.2911,  1.5735, -3.0478,\n",
      "        -1.3089, -2.2117,  1.5162, -0.8055, -1.3307, -2.4267, -1.2665,\n",
      "         0.8666, -2.2325, -0.4797, -0.5448, -0.6612, -0.6022,  2.6399,\n",
      "         1.4673, -1.5417, -2.9492, -2.7507,  0.6157, -0.0681, -0.8171,\n",
      "        -0.3554, -0.8225,  3.3906,  3.3509, -1.4484,  3.5124, -2.6519,\n",
      "         0.9721, -2.5068, -3.4962,  3.4743,  1.1525, -2.7555, -3.1673,\n",
      "         2.2906,  2.5914,  1.5992, -1.2859, -0.5682,  2.1488, -2.0631,\n",
      "         2.6281, -2.4639,  2.2622,  2.3632, -0.1979,  0.7160,  1.7594,\n",
      "         0.0761, -2.8886, -3.5467,  2.7691,  0.8280, -2.2398, -1.4602,\n",
      "        -1.3475, -1.4738,  0.6338,  3.2811, -3.0628,  2.7044,  1.2775,\n",
      "         2.8856, -3.3938,  2.7056,  0.5826, -0.6286,  1.2381,  0.7316,\n",
      "        -2.4725, -1.2958, -3.1543, -0.8584,  0.5517,  2.8176,  0.0947,\n",
      "        -1.6849, -1.4968,  3.1039,  1.7680,  1.1803, -1.4402,  2.5710,\n",
      "        -3.3057,  1.9027])\n"
     ]
    }
   ],
   "source": [
    "print(model.fc1.weight)\n",
    "print(model.fc1.bias)"
   ]
  },
  {
   "cell_type": "markdown",
   "metadata": {},
   "source": [
    "For custom initialization, we want to modify these tensors in place. These are actually autograd *Variables*, so we need to get back the actual tensors with `model.fc1.weight.data`. Once we have the tensors, we can fill them with zeros (for biases) or random normal values."
   ]
  },
  {
   "cell_type": "code",
   "execution_count": 13,
   "metadata": {},
   "outputs": [
    {
     "data": {
      "text/plain": [
       "tensor([ 0.,  0.,  0.,  0.,  0.,  0.,  0.,  0.,  0.,  0.,  0.,  0.,\n",
       "         0.,  0.,  0.,  0.,  0.,  0.,  0.,  0.,  0.,  0.,  0.,  0.,\n",
       "         0.,  0.,  0.,  0.,  0.,  0.,  0.,  0.,  0.,  0.,  0.,  0.,\n",
       "         0.,  0.,  0.,  0.,  0.,  0.,  0.,  0.,  0.,  0.,  0.,  0.,\n",
       "         0.,  0.,  0.,  0.,  0.,  0.,  0.,  0.,  0.,  0.,  0.,  0.,\n",
       "         0.,  0.,  0.,  0.,  0.,  0.,  0.,  0.,  0.,  0.,  0.,  0.,\n",
       "         0.,  0.,  0.,  0.,  0.,  0.,  0.,  0.,  0.,  0.,  0.,  0.,\n",
       "         0.,  0.,  0.,  0.,  0.,  0.,  0.,  0.,  0.,  0.,  0.,  0.,\n",
       "         0.,  0.,  0.,  0.,  0.,  0.,  0.,  0.,  0.,  0.,  0.,  0.,\n",
       "         0.,  0.,  0.,  0.,  0.,  0.,  0.,  0.,  0.,  0.,  0.,  0.,\n",
       "         0.,  0.,  0.,  0.,  0.,  0.,  0.,  0.])"
      ]
     },
     "execution_count": 13,
     "metadata": {},
     "output_type": "execute_result"
    }
   ],
   "source": [
    "# Set biases to all zeros\n",
    "model.fc1.bias.data.fill_(0)"
   ]
  },
  {
   "cell_type": "code",
   "execution_count": 14,
   "metadata": {},
   "outputs": [
    {
     "data": {
      "text/plain": [
       "tensor([[ 5.9294e-03,  9.6176e-04,  9.5034e-03,  ..., -1.2588e-03,\n",
       "          3.4878e-03,  1.4495e-02],\n",
       "        [-9.3127e-04, -1.0287e-02,  3.5423e-03,  ...,  1.1155e-02,\n",
       "          2.5012e-03,  1.3503e-02],\n",
       "        [-1.5078e-02,  8.1119e-03,  5.0678e-03,  ...,  2.8613e-03,\n",
       "          9.7443e-03, -6.5530e-03],\n",
       "        ...,\n",
       "        [-2.2938e-03, -1.8630e-02, -4.2459e-03,  ...,  1.4718e-02,\n",
       "          2.7655e-03,  3.2661e-03],\n",
       "        [-3.0470e-03,  1.2617e-02, -7.9772e-03,  ..., -1.4699e-02,\n",
       "         -9.1425e-03,  5.3492e-03],\n",
       "        [ 2.5911e-03,  2.4797e-03, -6.1172e-03,  ...,  1.0584e-02,\n",
       "         -1.0307e-02, -3.1901e-03]])"
      ]
     },
     "execution_count": 14,
     "metadata": {},
     "output_type": "execute_result"
    }
   ],
   "source": [
    "# sample from random normal with standard dev = 0.01\n",
    "model.fc1.weight.data.normal_(std=0.01)"
   ]
  },
  {
   "cell_type": "markdown",
   "metadata": {},
   "source": [
    "### Forward pass\n",
    "\n",
    "Now that we have a network, let's see what happens when we pass in an image."
   ]
  },
  {
   "cell_type": "code",
   "execution_count": 15,
   "metadata": {},
   "outputs": [
    {
     "data": {
      "image/png": "[encoded data removed]",
      "text/plain": [
       "<Figure size 432x648 with 2 Axes>"
      ]
     },
     "metadata": {
      "image/png": {
       "height": 226,
       "width": 423
      },
      "needs_background": "light"
     },
     "output_type": "display_data"
    }
   ],
   "source": [
    "# Grab some data \n",
    "dataiter = iter(trainloader)\n",
    "images, labels = dataiter.next()\n",
    "\n",
    "# Resize images into a 1D vector, new shape is (batch size, color channels, image pixels) \n",
    "images.resize_(64, 1, 784)\n",
    "# or images.resize_(images.shape[0], 1, 784) to automatically get batch size\n",
    "\n",
    "# Forward pass through the network\n",
    "img_idx = 0\n",
    "ps = model.forward(images[img_idx,:])\n",
    "\n",
    "img = images[img_idx]\n",
    "helper.view_classify(img.view(1, 28, 28), ps)"
   ]
  },
  {
   "cell_type": "markdown",
   "metadata": {},
   "source": [
    "As you can see above, our network has basically no idea what this digit is. It's because we haven't trained it yet, all the weights are random!\n",
    "\n",
    "### Using `nn.Sequential`\n",
    "\n",
    "PyTorch provides a convenient way to build networks like this where a tensor is passed sequentially through operations, `nn.Sequential` ([documentation](https://pytorch.org/docs/master/nn.html#torch.nn.Sequential)). Using this to build the equivalent network:"
   ]
  },
  {
   "cell_type": "code",
   "execution_count": 16,
   "metadata": {},
   "outputs": [
    {
     "name": "stdout",
     "output_type": "stream",
     "text": [
      "Sequential(\n",
      "  (0): Linear(in_features=784, out_features=128, bias=True)\n",
      "  (1): ReLU()\n",
      "  (2): Linear(in_features=128, out_features=64, bias=True)\n",
      "  (3): ReLU()\n",
      "  (4): Linear(in_features=64, out_features=10, bias=True)\n",
      "  (5): Softmax()\n",
      ")\n"
     ]
    },
    {
     "data": {
      "image/png": "[encoded data removed]",
      "text/plain": [
       "<Figure size 432x648 with 2 Axes>"
      ]
     },
     "metadata": {
      "image/png": {
       "height": 226,
       "width": 423
      },
      "needs_background": "light"
     },
     "output_type": "display_data"
    }
   ],
   "source": [
    "# Hyperparameters for our network\n",
    "input_size = 784\n",
    "hidden_sizes = [128, 64]\n",
    "output_size = 10\n",
    "\n",
    "# Build a feed-forward network\n",
    "model = nn.Sequential(nn.Linear(input_size, hidden_sizes[0]),\n",
    "                      nn.ReLU(),\n",
    "                      nn.Linear(hidden_sizes[0], hidden_sizes[1]),\n",
    "                      nn.ReLU(),\n",
    "                      nn.Linear(hidden_sizes[1], output_size),\n",
    "                      nn.Softmax(dim=1))\n",
    "print(model)\n",
    "\n",
    "# Forward pass through the network and display output\n",
    "images, labels = next(iter(trainloader))\n",
    "images.resize_(images.shape[0], 1, 784)\n",
    "ps = model.forward(images[0,:])\n",
    "helper.view_classify(images[0].view(1, 28, 28), ps)"
   ]
  },
  {
   "cell_type": "markdown",
   "metadata": {},
   "source": [
    "The operations are availble by passing in the appropriate index. For example, if you want to get first Linear operation and look at the weights, you'd use `model[0]`."
   ]
  },
  {
   "cell_type": "code",
   "execution_count": 17,
   "metadata": {},
   "outputs": [
    {
     "name": "stdout",
     "output_type": "stream",
     "text": [
      "Linear(in_features=784, out_features=128, bias=True)\n"
     ]
    },
    {
     "data": {
      "text/plain": [
       "Parameter containing:\n",
       "tensor([[-7.0372e-03,  2.9689e-02,  2.6028e-02,  ...,  1.1196e-02,\n",
       "         -2.1928e-02, -3.4886e-02],\n",
       "        [ 1.0624e-04, -1.6610e-02, -2.2891e-02,  ..., -6.4412e-03,\n",
       "         -2.5026e-02,  1.0674e-02],\n",
       "        [-2.4707e-02,  1.4146e-02,  2.0084e-02,  ...,  1.2227e-02,\n",
       "          2.3441e-02, -9.5175e-03],\n",
       "        ...,\n",
       "        [-2.0119e-02,  7.2614e-03, -1.3481e-02,  ...,  8.1745e-03,\n",
       "         -1.3348e-02, -1.1955e-02],\n",
       "        [ 3.2282e-02,  1.8674e-02, -3.0826e-02,  ...,  1.7296e-02,\n",
       "         -2.6710e-02, -3.0684e-02],\n",
       "        [ 1.7686e-02,  3.1376e-02, -2.2645e-02,  ...,  2.4630e-02,\n",
       "          3.1129e-02,  7.0939e-03]])"
      ]
     },
     "execution_count": 17,
     "metadata": {},
     "output_type": "execute_result"
    }
   ],
   "source": [
    "print(model[0])\n",
    "model[0].weight"
   ]
  },
  {
   "cell_type": "markdown",
   "metadata": {},
   "source": [
    "You can also pass in an `OrderedDict` to name the individual layers and operations, instead of using incremental integers. Note that dictionary keys must be unique, so _each operation must have a different name_."
   ]
  },
  {
   "cell_type": "code",
   "execution_count": 18,
   "metadata": {},
   "outputs": [
    {
     "data": {
      "text/plain": [
       "Sequential(\n",
       "  (fc1): Linear(in_features=784, out_features=128, bias=True)\n",
       "  (relu1): ReLU()\n",
       "  (fc2): Linear(in_features=128, out_features=64, bias=True)\n",
       "  (relu2): ReLU()\n",
       "  (output): Linear(in_features=64, out_features=10, bias=True)\n",
       "  (softmax): Softmax()\n",
       ")"
      ]
     },
     "execution_count": 18,
     "metadata": {},
     "output_type": "execute_result"
    }
   ],
   "source": [
    "from collections import OrderedDict\n",
    "model = nn.Sequential(OrderedDict([\n",
    "                      ('fc1', nn.Linear(input_size, hidden_sizes[0])),\n",
    "                      ('relu1', nn.ReLU()),\n",
    "                      ('fc2', nn.Linear(hidden_sizes[0], hidden_sizes[1])),\n",
    "                      ('relu2', nn.ReLU()),\n",
    "                      ('output', nn.Linear(hidden_sizes[1], output_size)),\n",
    "                      ('softmax', nn.Softmax(dim=1))]))\n",
    "model"
   ]
  },
  {
   "cell_type": "markdown",
   "metadata": {},
   "source": [
    "Now you can access layers either by integer or the name"
   ]
  },
  {
   "cell_type": "code",
   "execution_count": 19,
   "metadata": {},
   "outputs": [
    {
     "name": "stdout",
     "output_type": "stream",
     "text": [
      "Linear(in_features=784, out_features=128, bias=True)\n",
      "Linear(in_features=784, out_features=128, bias=True)\n"
     ]
    }
   ],
   "source": [
    "print(model[0])\n",
    "print(model.fc1)"
   ]
  },
  {
   "cell_type": "markdown",
   "metadata": {},
   "source": [
    "In the next notebook, we'll see how we can train a neural network to accuractly predict the numbers appearing in the MNIST images."
   ]
  }
 ],
 "metadata": {
  "kernelspec": {
   "display_name": "Python 3",
   "language": "python",
   "name": "python3"
  },
  "language_info": {
   "codemirror_mode": {
    "name": "ipython",
    "version": 3
   },
   "file_extension": ".py",
   "mimetype": "text/x-python",
   "name": "python",
   "nbconvert_exporter": "python",
   "pygments_lexer": "ipython3",
   "version": "3.6.7"
  }
 },
 "nbformat": 4,
 "nbformat_minor": 2
}
